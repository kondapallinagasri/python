{
 "cells": [
  {
   "cell_type": "code",
   "execution_count": 10,
   "id": "1156d3ed-c688-48ed-9300-00a8ea3a910d",
   "metadata": {},
   "outputs": [],
   "source": [
    "d={}"
   ]
  },
  {
   "cell_type": "code",
   "execution_count": 12,
   "id": "edebfa2b-ef20-49ac-a701-33849e5da5b8",
   "metadata": {},
   "outputs": [
    {
     "data": {
      "text/plain": [
       "{}"
      ]
     },
     "execution_count": 12,
     "metadata": {},
     "output_type": "execute_result"
    }
   ],
   "source": [
    "d"
   ]
  },
  {
   "cell_type": "code",
   "execution_count": 14,
   "id": "800d274c-d232-4d3c-8751-048f63e1d5ae",
   "metadata": {},
   "outputs": [
    {
     "data": {
      "text/plain": [
       "dict"
      ]
     },
     "execution_count": 14,
     "metadata": {},
     "output_type": "execute_result"
    }
   ],
   "source": [
    "type(d)"
   ]
  },
  {
   "cell_type": "code",
   "execution_count": 16,
   "id": "ac9e39e9-3512-4a7f-9dd8-537ab5acc471",
   "metadata": {},
   "outputs": [
    {
     "data": {
      "text/plain": [
       "{1: 'nag', 3: 'jyo', 5: 'bro', 7: 'dad'}"
      ]
     },
     "execution_count": 16,
     "metadata": {},
     "output_type": "execute_result"
    }
   ],
   "source": [
    "dict={1:'nag',3:'jyo',5:\"bro\",7:'dad'}\n",
    "dict"
   ]
  },
  {
   "cell_type": "code",
   "execution_count": 38,
   "id": "062e498d-2fcd-4e8f-8564-9cc2a113c02f",
   "metadata": {},
   "outputs": [],
   "source": [
    "c={'A':'a','E':'e','I':'i','O':'o'}"
   ]
  },
  {
   "cell_type": "code",
   "execution_count": 40,
   "id": "9381de30-51b7-4c80-b377-b8ef1313ad2e",
   "metadata": {},
   "outputs": [
    {
     "data": {
      "text/plain": [
       "{'A': 'a', 'E': 'e', 'I': 'i', 'O': 'o'}"
      ]
     },
     "execution_count": 40,
     "metadata": {},
     "output_type": "execute_result"
    }
   ],
   "source": [
    "c"
   ]
  },
  {
   "cell_type": "code",
   "execution_count": 42,
   "id": "8142a9d4-4c37-4b61-96da-bca9f02e4ee1",
   "metadata": {},
   "outputs": [],
   "source": [
    "r={'w':'water',1:'0ne','J':'JUICE'}"
   ]
  },
  {
   "cell_type": "code",
   "execution_count": 44,
   "id": "7ae52fa9-9b03-47d0-b76d-dcefa95a6c64",
   "metadata": {},
   "outputs": [
    {
     "data": {
      "text/plain": [
       "{'w': 'water', 1: '0ne', 'J': 'JUICE'}"
      ]
     },
     "execution_count": 44,
     "metadata": {},
     "output_type": "execute_result"
    }
   ],
   "source": [
    "r"
   ]
  },
  {
   "cell_type": "code",
   "execution_count": 46,
   "id": "01fb12d0-6cb3-4330-a370-24f442e00b3d",
   "metadata": {},
   "outputs": [
    {
     "data": {
      "text/plain": [
       "dict_keys(['w', 1, 'J'])"
      ]
     },
     "execution_count": 46,
     "metadata": {},
     "output_type": "execute_result"
    }
   ],
   "source": [
    "r.keys()"
   ]
  },
  {
   "cell_type": "code",
   "execution_count": 48,
   "id": "fde6c5cd-7f65-46c1-b3c6-43384f8489d2",
   "metadata": {},
   "outputs": [
    {
     "data": {
      "text/plain": [
       "dict_values(['water', '0ne', 'JUICE'])"
      ]
     },
     "execution_count": 48,
     "metadata": {},
     "output_type": "execute_result"
    }
   ],
   "source": [
    "r.values()"
   ]
  },
  {
   "cell_type": "code",
   "execution_count": 50,
   "id": "8ce21ace-c2e7-4a05-9ff9-1885e0169f84",
   "metadata": {},
   "outputs": [
    {
     "data": {
      "text/plain": [
       "dict_items([('w', 'water'), (1, '0ne'), ('J', 'JUICE')])"
      ]
     },
     "execution_count": 50,
     "metadata": {},
     "output_type": "execute_result"
    }
   ],
   "source": [
    "r.items()"
   ]
  },
  {
   "cell_type": "code",
   "execution_count": 52,
   "id": "93a8bfa0-0ac5-4d32-b605-7718ab099ce2",
   "metadata": {},
   "outputs": [],
   "source": [
    "Q={'x':'tshirt','l':['kurthi','jeans','shirt'],'xs':'croptop'}"
   ]
  },
  {
   "cell_type": "code",
   "execution_count": 54,
   "id": "a14eda1c-58e8-43df-ba16-ad27c11f151b",
   "metadata": {},
   "outputs": [
    {
     "data": {
      "text/plain": [
       "{'x': 'tshirt', 'l': ['kurthi', 'jeans', 'shirt'], 'xs': 'croptop'}"
      ]
     },
     "execution_count": 54,
     "metadata": {},
     "output_type": "execute_result"
    }
   ],
   "source": [
    "Q"
   ]
  },
  {
   "cell_type": "code",
   "execution_count": 56,
   "id": "4f2c19dd-c9e8-4bf7-93ca-d74d205b5dda",
   "metadata": {},
   "outputs": [
    {
     "data": {
      "text/plain": [
       "dict_keys(['x', 'l', 'xs'])"
      ]
     },
     "execution_count": 56,
     "metadata": {},
     "output_type": "execute_result"
    }
   ],
   "source": [
    "Q.keys()"
   ]
  },
  {
   "cell_type": "code",
   "execution_count": 58,
   "id": "6cd937fd-233a-493a-b67c-37bc712f9f68",
   "metadata": {},
   "outputs": [
    {
     "data": {
      "text/plain": [
       "dict_values(['tshirt', ['kurthi', 'jeans', 'shirt'], 'croptop'])"
      ]
     },
     "execution_count": 58,
     "metadata": {},
     "output_type": "execute_result"
    }
   ],
   "source": [
    "Q.values()"
   ]
  },
  {
   "cell_type": "code",
   "execution_count": 64,
   "id": "3afe43ef-7b42-4859-b22d-af7c0a02044a",
   "metadata": {},
   "outputs": [],
   "source": [
    "Q={'x':'tshirt','l':['kurthi','jeans','shirt','tshirt'],'xs':'croptop','s':('nightwear','trousers')}"
   ]
  },
  {
   "cell_type": "code",
   "execution_count": 66,
   "id": "1c6b185d-dba6-4d6c-811c-2740904c8bc8",
   "metadata": {},
   "outputs": [
    {
     "data": {
      "text/plain": [
       "{'x': 'tshirt',\n",
       " 'l': ['kurthi', 'jeans', 'shirt', 'tshirt'],\n",
       " 'xs': 'croptop',\n",
       " 's': ('nightwear', 'trousers')}"
      ]
     },
     "execution_count": 66,
     "metadata": {},
     "output_type": "execute_result"
    }
   ],
   "source": [
    "Q"
   ]
  },
  {
   "cell_type": "code",
   "execution_count": 70,
   "id": "21b274cf-ed7a-428d-95a0-1c17cbf36071",
   "metadata": {},
   "outputs": [
    {
     "data": {
      "text/plain": [
       "{1: None, 2: None, 3: None, 4: None}"
      ]
     },
     "execution_count": 70,
     "metadata": {},
     "output_type": "execute_result"
    }
   ],
   "source": [
    "Keys ={1,2,3,4}\n",
    "p=dict.fromkeys(Keys)\n",
    "p"
   ]
  },
  {
   "cell_type": "code",
   "execution_count": 74,
   "id": "2367d403-37b2-4a0d-86e6-83f4778967c1",
   "metadata": {},
   "outputs": [
    {
     "data": {
      "text/plain": [
       "{1: 'nag', 2: 'nag', 3: 'nag', 4: 'nag'}"
      ]
     },
     "execution_count": 74,
     "metadata": {},
     "output_type": "execute_result"
    }
   ],
   "source": [
    "Keys={1,2,3,4}\n",
    "value='nag'\n",
    "p=dict.fromkeys(Keys,value)\n",
    "p"
   ]
  },
  {
   "cell_type": "code",
   "execution_count": 76,
   "id": "0550eec9-a8af-4908-8538-36e371526cb5",
   "metadata": {},
   "outputs": [
    {
     "data": {
      "text/plain": [
       "{1: ['nag', 59], 2: ['nag', 59], 3: ['nag', 59], 4: ['nag', 59]}"
      ]
     },
     "execution_count": 76,
     "metadata": {},
     "output_type": "execute_result"
    }
   ],
   "source": [
    "Keys={1,2,3,4}\n",
    "value=['nag',59]\n",
    "p=dict.fromkeys(Keys,value)\n",
    "p"
   ]
  },
  {
   "cell_type": "code",
   "execution_count": 78,
   "id": "31ff37e2-7b49-44ef-ac04-1f7109aee258",
   "metadata": {},
   "outputs": [
    {
     "data": {
      "text/plain": [
       "{1: ['nag', 59, 12],\n",
       " 2: ['nag', 59, 12],\n",
       " 3: ['nag', 59, 12],\n",
       " 4: ['nag', 59, 12]}"
      ]
     },
     "execution_count": 78,
     "metadata": {},
     "output_type": "execute_result"
    }
   ],
   "source": [
    "value.append(12)\n",
    "p"
   ]
  },
  {
   "cell_type": "code",
   "execution_count": 80,
   "id": "0757b235-1b09-4660-94d2-efb73be24dc4",
   "metadata": {},
   "outputs": [],
   "source": [
    "Q={'x':'tshirt','l':['kurthi','jeans','shirt'],'xs':'croptop'}"
   ]
  },
  {
   "cell_type": "code",
   "execution_count": 86,
   "id": "9195ae1f-5781-4993-8b8d-21ba6ed4b9fa",
   "metadata": {},
   "outputs": [
    {
     "data": {
      "text/plain": [
       "['kurthi', 'jeans', 'shirt']"
      ]
     },
     "execution_count": 86,
     "metadata": {},
     "output_type": "execute_result"
    }
   ],
   "source": [
    "Q['l']"
   ]
  },
  {
   "cell_type": "code",
   "execution_count": 88,
   "id": "518a4cd0-bf5a-4372-ba06-2851dc15c0ab",
   "metadata": {},
   "outputs": [
    {
     "data": {
      "text/plain": [
       "['kurthi', 'jeans', 'shirt']"
      ]
     },
     "execution_count": 88,
     "metadata": {},
     "output_type": "execute_result"
    }
   ],
   "source": [
    "Q.get('l')"
   ]
  },
  {
   "cell_type": "code",
   "execution_count": 164,
   "id": "a621102c-55a6-48b0-bb74-a30f2fb0e126",
   "metadata": {},
   "outputs": [],
   "source": [
    "mydict1 = {'Name':'nagasri','age':21,'dob':2002}"
   ]
  },
  {
   "cell_type": "code",
   "execution_count": 166,
   "id": "e481fa1c-f8ee-4646-8095-23ee8bb554d3",
   "metadata": {},
   "outputs": [
    {
     "data": {
      "text/plain": [
       "{'Name': 'nagasri', 'age': 21, 'dob': 2002}"
      ]
     },
     "execution_count": 166,
     "metadata": {},
     "output_type": "execute_result"
    }
   ],
   "source": [
    "mydict1"
   ]
  },
  {
   "cell_type": "code",
   "execution_count": 168,
   "id": "800ad2cc-769d-4374-a0d5-e308b80ed46e",
   "metadata": {},
   "outputs": [
    {
     "data": {
      "text/plain": [
       "2002"
      ]
     },
     "execution_count": 168,
     "metadata": {},
     "output_type": "execute_result"
    }
   ],
   "source": [
    "mydict1['dob']"
   ]
  },
  {
   "cell_type": "code",
   "execution_count": 170,
   "id": "e1afa7af-ab62-4c47-a770-b51b2a741197",
   "metadata": {},
   "outputs": [
    {
     "data": {
      "text/plain": [
       "2002"
      ]
     },
     "execution_count": 170,
     "metadata": {},
     "output_type": "execute_result"
    }
   ],
   "source": [
    "mydict1.get('dob')"
   ]
  },
  {
   "cell_type": "code",
   "execution_count": 172,
   "id": "efb7f8c7-636d-4f93-bae0-73818c658bf4",
   "metadata": {},
   "outputs": [],
   "source": [
    "mydict1 = {'Name':'nagasri','age':21,'dob':2002}"
   ]
  },
  {
   "cell_type": "code",
   "execution_count": 174,
   "id": "ba3aa804-6533-4138-ada2-40b3fee4583d",
   "metadata": {},
   "outputs": [
    {
     "data": {
      "text/plain": [
       "{'Name': 'nagasri', 'age': 21, 'dob': 2002}"
      ]
     },
     "execution_count": 174,
     "metadata": {},
     "output_type": "execute_result"
    }
   ],
   "source": [
    " mydict1"
   ]
  },
  {
   "cell_type": "code",
   "execution_count": 226,
   "id": "9548ed1e-1521-4a96-81c7-7179b30454f9",
   "metadata": {},
   "outputs": [
    {
     "data": {
      "text/plain": [
       "{'Name': 'phani', 'dob': 2000}"
      ]
     },
     "execution_count": 226,
     "metadata": {},
     "output_type": "execute_result"
    }
   ],
   "source": [
    "mydict1['Name']='phani'\n",
    "mydict1['dob']=2000\n",
    "mydict1"
   ]
  },
  {
   "cell_type": "code",
   "execution_count": 228,
   "id": "688f5f0b-0f4d-482c-b2fe-0547541be9c7",
   "metadata": {},
   "outputs": [
    {
     "data": {
      "text/plain": [
       "{'Name': 'phani', 'dob': 2000, 'age': 24}"
      ]
     },
     "execution_count": 228,
     "metadata": {},
     "output_type": "execute_result"
    }
   ],
   "source": [
    "O={'age':24}\n",
    "mydict1.update(O)\n",
    "mydict1"
   ]
  },
  {
   "cell_type": "code",
   "execution_count": 230,
   "id": "368dad65-8826-4a24-9051-0873fb9fd5a9",
   "metadata": {},
   "outputs": [
    {
     "data": {
      "text/plain": [
       "{'Name': 'phani', 'dob': 2000, 'age': 24, 'place': 'mhbd'}"
      ]
     },
     "execution_count": 230,
     "metadata": {},
     "output_type": "execute_result"
    }
   ],
   "source": [
    "mydict1['place']='mhbd'\n",
    "mydict1"
   ]
  },
  {
   "cell_type": "code",
   "execution_count": 232,
   "id": "41fd1262-a9aa-4dcb-9f2d-6ac13644d370",
   "metadata": {},
   "outputs": [
    {
     "data": {
      "text/plain": [
       "{'Name': 'phani', 'dob': 2000, 'age': 24}"
      ]
     },
     "execution_count": 232,
     "metadata": {},
     "output_type": "execute_result"
    }
   ],
   "source": [
    "mydict1.pop('place')\n",
    "mydict1"
   ]
  },
  {
   "cell_type": "code",
   "execution_count": 234,
   "id": "16fb399b-1a6d-4873-abc0-817196a1adbb",
   "metadata": {},
   "outputs": [
    {
     "data": {
      "text/plain": [
       "{'Name': 'phani', 'dob': 2000}"
      ]
     },
     "execution_count": 234,
     "metadata": {},
     "output_type": "execute_result"
    }
   ],
   "source": [
    "mydict1.popitem()\n",
    "mydict1"
   ]
  },
  {
   "cell_type": "code",
   "execution_count": 236,
   "id": "8f80fcd5-415b-4409-ab65-b527d5b4bf58",
   "metadata": {},
   "outputs": [
    {
     "data": {
      "text/plain": [
       "{'Name': 'phani', 'dob': 2000}"
      ]
     },
     "execution_count": 236,
     "metadata": {},
     "output_type": "execute_result"
    }
   ],
   "source": [
    "mydict1"
   ]
  },
  {
   "cell_type": "code",
   "execution_count": 242,
   "id": "621ce122-ade4-46ec-bc61-5b07b5cf23ef",
   "metadata": {},
   "outputs": [
    {
     "data": {
      "text/plain": [
       "{}"
      ]
     },
     "execution_count": 242,
     "metadata": {},
     "output_type": "execute_result"
    }
   ],
   "source": [
    "mydict1.clear() \n",
    "mydict1"
   ]
  },
  {
   "cell_type": "code",
   "execution_count": 244,
   "id": "bea880f0-d153-418b-9485-149e45a0b5e4",
   "metadata": {},
   "outputs": [
    {
     "ename": "NameError",
     "evalue": "name 'mydict1' is not defined",
     "output_type": "error",
     "traceback": [
      "\u001b[1;31m---------------------------------------------------------------------------\u001b[0m",
      "\u001b[1;31mNameError\u001b[0m                                 Traceback (most recent call last)",
      "Cell \u001b[1;32mIn[244], line 2\u001b[0m\n\u001b[0;32m      1\u001b[0m \u001b[38;5;28;01mdel\u001b[39;00m mydict1 \u001b[38;5;66;03m# Delete the dictionary object \u001b[39;00m\n\u001b[1;32m----> 2\u001b[0m mydict1\n",
      "\u001b[1;31mNameError\u001b[0m: name 'mydict1' is not defined"
     ]
    }
   ],
   "source": [
    "del mydict1 \n",
    "mydict1 "
   ]
  },
  {
   "cell_type": "code",
   "execution_count": 4,
   "id": "e33288aa-f962-4d0f-a8b4-fbd52a268be0",
   "metadata": {},
   "outputs": [
    {
     "data": {
      "text/plain": [
       "{'Name': 'nagasri', 'age': 21, 'dob': 2002}"
      ]
     },
     "execution_count": 4,
     "metadata": {},
     "output_type": "execute_result"
    }
   ],
   "source": [
    "m= {'Name':'nagasri','age':21,'dob':2002}\n",
    "m"
   ]
  },
  {
   "cell_type": "code",
   "execution_count": 6,
   "id": "20563623-8010-46c0-b295-bda53f0996af",
   "metadata": {},
   "outputs": [],
   "source": [
    "z=m"
   ]
  },
  {
   "cell_type": "code",
   "execution_count": 8,
   "id": "f53029f7-c011-4e1b-b8c7-8300002a59a8",
   "metadata": {},
   "outputs": [
    {
     "data": {
      "text/plain": [
       "(2287513768320, 2287513768320)"
      ]
     },
     "execution_count": 8,
     "metadata": {},
     "output_type": "execute_result"
    }
   ],
   "source": [
    "id(z),id(m)"
   ]
  },
  {
   "cell_type": "code",
   "execution_count": 10,
   "id": "039f7794-fe79-4b5c-a6c4-5db862da27c5",
   "metadata": {},
   "outputs": [],
   "source": [
    "n=m.copy()"
   ]
  },
  {
   "cell_type": "code",
   "execution_count": 12,
   "id": "95fa1535-6b7e-42ef-986d-f5ba805f77b6",
   "metadata": {},
   "outputs": [
    {
     "data": {
      "text/plain": [
       "2287513773504"
      ]
     },
     "execution_count": 12,
     "metadata": {},
     "output_type": "execute_result"
    }
   ],
   "source": [
    "id(n)"
   ]
  },
  {
   "cell_type": "code",
   "execution_count": 16,
   "id": "404854c7-5954-446a-926d-f14b7889cdd5",
   "metadata": {},
   "outputs": [],
   "source": [
    "m['Name']='phani'"
   ]
  },
  {
   "cell_type": "code",
   "execution_count": 19,
   "id": "66ce5bc3-d737-4156-b164-863e3416ea66",
   "metadata": {},
   "outputs": [
    {
     "data": {
      "text/plain": [
       "{'Name': 'phani', 'age': 21, 'dob': 2002}"
      ]
     },
     "execution_count": 19,
     "metadata": {},
     "output_type": "execute_result"
    }
   ],
   "source": [
    "m"
   ]
  },
  {
   "cell_type": "code",
   "execution_count": 21,
   "id": "3a9fa3a7-8d26-4cea-88e4-028ca005f9de",
   "metadata": {},
   "outputs": [
    {
     "data": {
      "text/plain": [
       "{'Name': 'phani', 'age': 21, 'dob': 2002}"
      ]
     },
     "execution_count": 21,
     "metadata": {},
     "output_type": "execute_result"
    }
   ],
   "source": [
    "z"
   ]
  },
  {
   "cell_type": "code",
   "execution_count": 23,
   "id": "7cf981f8-cb01-4fcc-a70c-d087a4d27e7a",
   "metadata": {},
   "outputs": [
    {
     "data": {
      "text/plain": [
       "{'Name': 'nagasri', 'age': 21, 'dob': 2002}"
      ]
     },
     "execution_count": 23,
     "metadata": {},
     "output_type": "execute_result"
    }
   ],
   "source": [
    "n"
   ]
  },
  {
   "cell_type": "code",
   "execution_count": 25,
   "id": "be87c6cb-27a3-4814-86a5-c4f2d60ce140",
   "metadata": {},
   "outputs": [
    {
     "data": {
      "text/plain": [
       "{'x': 'tshirt', 'l': ['kurthi', 'jeans', 'shirt'], 'xs': 'croptop'}"
      ]
     },
     "execution_count": 25,
     "metadata": {},
     "output_type": "execute_result"
    }
   ],
   "source": [
    "Q={'x':'tshirt','l':['kurthi','jeans','shirt'],'xs':'croptop'}\n",
    "Q"
   ]
  },
  {
   "cell_type": "code",
   "execution_count": 35,
   "id": "a3123bde-fa02-4557-b300-c116788afade",
   "metadata": {},
   "outputs": [
    {
     "name": "stdout",
     "output_type": "stream",
     "text": [
      "x : tshirt\n",
      "l : ['kurthi', 'jeans', 'shirt']\n",
      "xs : croptop\n"
     ]
    }
   ],
   "source": [
    "for i in Q:\n",
    " print(i ,':', Q[i])"
   ]
  },
  {
   "cell_type": "code",
   "execution_count": 41,
   "id": "6ff92831-e637-4ba8-8ee5-11c585b2b069",
   "metadata": {},
   "outputs": [
    {
     "name": "stdout",
     "output_type": "stream",
     "text": [
      "tshirt\n",
      "['kurthi', 'jeans', 'shirt']\n",
      "croptop\n"
     ]
    }
   ],
   "source": [
    "for i in Q:\n",
    " print(Q[i])"
   ]
  },
  {
   "cell_type": "code",
   "execution_count": 43,
   "id": "356e90e1-fecc-4bc9-8066-335a3c4afee7",
   "metadata": {},
   "outputs": [],
   "source": [
    "Q={'x':'tshirt','l':['kurthi','jeans','shirt'],'xs':'croptop'}"
   ]
  },
  {
   "cell_type": "code",
   "execution_count": 45,
   "id": "f2a502e5-426c-4b30-952b-ceb3ed203cc5",
   "metadata": {},
   "outputs": [
    {
     "data": {
      "text/plain": [
       "True"
      ]
     },
     "execution_count": 45,
     "metadata": {},
     "output_type": "execute_result"
    }
   ],
   "source": [
    "'x' in Q"
   ]
  },
  {
   "cell_type": "code",
   "execution_count": 47,
   "id": "4fe2f150-0469-4435-80a7-bb20e4335caa",
   "metadata": {},
   "outputs": [
    {
     "data": {
      "text/plain": [
       "False"
      ]
     },
     "execution_count": 47,
     "metadata": {},
     "output_type": "execute_result"
    }
   ],
   "source": [
    "'tshirt' in Q"
   ]
  },
  {
   "cell_type": "code",
   "execution_count": 49,
   "id": "75392542-9bee-453f-93e1-f27b685175e9",
   "metadata": {},
   "outputs": [
    {
     "data": {
      "text/plain": [
       "True"
      ]
     },
     "execution_count": 49,
     "metadata": {},
     "output_type": "execute_result"
    }
   ],
   "source": [
    "'l' in Q"
   ]
  },
  {
   "cell_type": "code",
   "execution_count": 69,
   "id": "178d7019-0e9e-424e-bae6-ee2f2ae6f9aa",
   "metadata": {},
   "outputs": [
    {
     "data": {
      "text/plain": [
       "{'Name': 'nagasri', 'age': 22, 'dob': 2002}"
      ]
     },
     "execution_count": 69,
     "metadata": {},
     "output_type": "execute_result"
    }
   ],
   "source": [
    "m= {'Name':'nagasri','age':22,'dob':2002}\n",
    "m"
   ]
  },
  {
   "cell_type": "code",
   "execution_count": 71,
   "id": "a225ab45-e46f-416e-a75d-a154127f6262",
   "metadata": {},
   "outputs": [
    {
     "data": {
      "text/plain": [
       "True"
      ]
     },
     "execution_count": 71,
     "metadata": {},
     "output_type": "execute_result"
    }
   ],
   "source": [
    "all(m)"
   ]
  },
  {
   "cell_type": "code",
   "execution_count": 67,
   "id": "e60f32e7-251b-450d-ac26-a297b6043ef3",
   "metadata": {},
   "outputs": [
    {
     "data": {
      "text/plain": [
       "True"
      ]
     },
     "execution_count": 67,
     "metadata": {},
     "output_type": "execute_result"
    }
   ],
   "source": [
    "any(m)"
   ]
  },
  {
   "cell_type": "code",
   "execution_count": null,
   "id": "ca024d05-8bae-4a2b-a24e-105cdb6a56bc",
   "metadata": {},
   "outputs": [],
   "source": []
  }
 ],
 "metadata": {
  "kernelspec": {
   "display_name": "Python 3 (ipykernel)",
   "language": "python",
   "name": "python3"
  },
  "language_info": {
   "codemirror_mode": {
    "name": "ipython",
    "version": 3
   },
   "file_extension": ".py",
   "mimetype": "text/x-python",
   "name": "python",
   "nbconvert_exporter": "python",
   "pygments_lexer": "ipython3",
   "version": "3.12.7"
  }
 },
 "nbformat": 4,
 "nbformat_minor": 5
}
