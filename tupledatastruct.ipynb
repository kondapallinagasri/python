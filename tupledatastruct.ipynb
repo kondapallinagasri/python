{
 "cells": [
  {
   "cell_type": "markdown",
   "id": "77bcc93f-8371-4337-afdc-2e3dcb0db5de",
   "metadata": {},
   "source": [
    "Tuple"
   ]
  },
  {
   "cell_type": "code",
   "execution_count": 8,
   "id": "26d74ee2-bc3e-4603-a3a9-0711578a84cf",
   "metadata": {},
   "outputs": [
    {
     "data": {
      "text/plain": [
       "()"
      ]
     },
     "execution_count": 8,
     "metadata": {},
     "output_type": "execute_result"
    }
   ],
   "source": [
    "x=()\n",
    "x"
   ]
  },
  {
   "cell_type": "code",
   "execution_count": 10,
   "id": "1043c5f1-c146-4870-90c0-8a1b63204b23",
   "metadata": {},
   "outputs": [
    {
     "data": {
      "text/plain": [
       "tuple"
      ]
     },
     "execution_count": 10,
     "metadata": {},
     "output_type": "execute_result"
    }
   ],
   "source": [
    "type(x)"
   ]
  },
  {
   "cell_type": "code",
   "execution_count": 16,
   "id": "2d12c6be-1fa1-4e96-a78f-42336b5b5408",
   "metadata": {},
   "outputs": [
    {
     "data": {
      "text/plain": [
       "(33, 55, 77, 'jyo', 5.6, (5+8j), 'dad')"
      ]
     },
     "execution_count": 16,
     "metadata": {},
     "output_type": "execute_result"
    }
   ],
   "source": [
    "y=(33,55,77,'jyo',5.6,5+8j,'dad')\n",
    "y"
   ]
  },
  {
   "cell_type": "code",
   "execution_count": 18,
   "id": "28600bc9-b460-4b8b-8dbb-3715517081d3",
   "metadata": {},
   "outputs": [
    {
     "data": {
      "text/plain": [
       "tuple"
      ]
     },
     "execution_count": 18,
     "metadata": {},
     "output_type": "execute_result"
    }
   ],
   "source": [
    "type(y)"
   ]
  },
  {
   "cell_type": "code",
   "execution_count": 31,
   "id": "1e243d2f-c3e1-4078-a6db-288c19d677d7",
   "metadata": {},
   "outputs": [
    {
     "data": {
      "text/plain": [
       "(46, ['mom', 'dad'], {'nag', 'virat'}, (55, 666))"
      ]
     },
     "execution_count": 31,
     "metadata": {},
     "output_type": "execute_result"
    }
   ],
   "source": [
    "r=(46,['mom','dad'],{'nag','virat'},(55,666))\n",
    "r"
   ]
  },
  {
   "cell_type": "code",
   "execution_count": 22,
   "id": "25705edf-4147-42ff-bf9f-b3b593cc93e7",
   "metadata": {},
   "outputs": [
    {
     "data": {
      "text/plain": [
       "tuple"
      ]
     },
     "execution_count": 22,
     "metadata": {},
     "output_type": "execute_result"
    }
   ],
   "source": [
    "type(r)"
   ]
  },
  {
   "cell_type": "code",
   "execution_count": 24,
   "id": "9601db9f-ab6c-466b-95b7-438a02436401",
   "metadata": {},
   "outputs": [
    {
     "data": {
      "text/plain": [
       "4"
      ]
     },
     "execution_count": 24,
     "metadata": {},
     "output_type": "execute_result"
    }
   ],
   "source": [
    "len(r)"
   ]
  },
  {
   "cell_type": "markdown",
   "id": "816bd635-155b-4947-8440-8be9f1b32909",
   "metadata": {},
   "source": [
    "indexing"
   ]
  },
  {
   "cell_type": "code",
   "execution_count": 27,
   "id": "3ad71d68-ff6a-4630-88ec-88731bd71560",
   "metadata": {},
   "outputs": [
    {
     "data": {
      "text/plain": [
       "(46, ['mom', 'dad'], {'nag', 'virat'}, (55, 666))"
      ]
     },
     "execution_count": 27,
     "metadata": {},
     "output_type": "execute_result"
    }
   ],
   "source": [
    "r"
   ]
  },
  {
   "cell_type": "code",
   "execution_count": 29,
   "id": "3943df30-6776-4f47-8705-db92e021f993",
   "metadata": {},
   "outputs": [
    {
     "data": {
      "text/plain": [
       "46"
      ]
     },
     "execution_count": 29,
     "metadata": {},
     "output_type": "execute_result"
    }
   ],
   "source": [
    "r[0]"
   ]
  },
  {
   "cell_type": "code",
   "execution_count": 33,
   "id": "9590a1a6-d139-4894-8bca-a21df6144963",
   "metadata": {},
   "outputs": [
    {
     "data": {
      "text/plain": [
       "(55, 666)"
      ]
     },
     "execution_count": 33,
     "metadata": {},
     "output_type": "execute_result"
    }
   ],
   "source": [
    "r[3]"
   ]
  },
  {
   "cell_type": "code",
   "execution_count": 35,
   "id": "7e134772-be41-4eac-9639-8fdd10c5c71c",
   "metadata": {},
   "outputs": [
    {
     "data": {
      "text/plain": [
       "(55, 666)"
      ]
     },
     "execution_count": 35,
     "metadata": {},
     "output_type": "execute_result"
    }
   ],
   "source": [
    "r[-1]"
   ]
  },
  {
   "cell_type": "markdown",
   "id": "230297a8-86e4-4bc9-a6b1-17dcc31f1747",
   "metadata": {},
   "source": [
    "slicing"
   ]
  },
  {
   "cell_type": "code",
   "execution_count": 46,
   "id": "5c5fb5f8-e8d2-4a3f-b50e-4c9c6e330a8a",
   "metadata": {},
   "outputs": [],
   "source": [
    "u=(1,90,9+8j,'one','sleep','clg',76,59,22.4)"
   ]
  },
  {
   "cell_type": "code",
   "execution_count": 48,
   "id": "8ff4bf0c-80d2-40d1-92cd-3e0a29d9d6cc",
   "metadata": {},
   "outputs": [
    {
     "data": {
      "text/plain": [
       "(1, 90, (9+8j), 'one', 'sleep', 'clg', 76, 59, 22.4)"
      ]
     },
     "execution_count": 48,
     "metadata": {},
     "output_type": "execute_result"
    }
   ],
   "source": [
    "u"
   ]
  },
  {
   "cell_type": "code",
   "execution_count": 50,
   "id": "e39529c5-26cc-4ded-acb2-8e7f7403bb5c",
   "metadata": {},
   "outputs": [
    {
     "data": {
      "text/plain": [
       "(1,)"
      ]
     },
     "execution_count": 50,
     "metadata": {},
     "output_type": "execute_result"
    }
   ],
   "source": [
    "u[0:1]"
   ]
  },
  {
   "cell_type": "code",
   "execution_count": 52,
   "id": "a2fc6918-4f9a-416a-987d-654bab98ece3",
   "metadata": {},
   "outputs": [
    {
     "data": {
      "text/plain": [
       "(1, 90, (9+8j), 'one', 'sleep', 'clg', 76, 59)"
      ]
     },
     "execution_count": 52,
     "metadata": {},
     "output_type": "execute_result"
    }
   ],
   "source": [
    "u[:-1]"
   ]
  },
  {
   "cell_type": "code",
   "execution_count": 54,
   "id": "22f7e1d2-9bcc-44f8-9c4f-6d028b378350",
   "metadata": {},
   "outputs": [
    {
     "data": {
      "text/plain": [
       "(22.4,)"
      ]
     },
     "execution_count": 54,
     "metadata": {},
     "output_type": "execute_result"
    }
   ],
   "source": [
    "u[-1:]"
   ]
  },
  {
   "cell_type": "code",
   "execution_count": 56,
   "id": "a79ae675-ed92-4583-b759-33006f900f6c",
   "metadata": {},
   "outputs": [
    {
     "data": {
      "text/plain": [
       "(22.4, 59, 76, 'clg', 'sleep', 'one', (9+8j), 90, 1)"
      ]
     },
     "execution_count": 56,
     "metadata": {},
     "output_type": "execute_result"
    }
   ],
   "source": [
    "u[::-1]"
   ]
  },
  {
   "cell_type": "code",
   "execution_count": 58,
   "id": "6b8e49ee-e160-420a-a9e8-3ae9ce5e9c90",
   "metadata": {},
   "outputs": [
    {
     "data": {
      "text/plain": [
       "(90, 'one', 'clg')"
      ]
     },
     "execution_count": 58,
     "metadata": {},
     "output_type": "execute_result"
    }
   ],
   "source": [
    "u[1:7:2]"
   ]
  },
  {
   "cell_type": "code",
   "execution_count": 60,
   "id": "fa136db0-19ec-4b05-9e30-c1dd74daa721",
   "metadata": {},
   "outputs": [
    {
     "data": {
      "text/plain": [
       "('one', 'clg')"
      ]
     },
     "execution_count": 60,
     "metadata": {},
     "output_type": "execute_result"
    }
   ],
   "source": [
    "u[-6:-2:2]"
   ]
  },
  {
   "cell_type": "code",
   "execution_count": 62,
   "id": "7e7e5ab4-8a0e-44cc-8ea8-16682fd2f4fe",
   "metadata": {},
   "outputs": [
    {
     "data": {
      "text/plain": [
       "((9+8j), 'sleep')"
      ]
     },
     "execution_count": 62,
     "metadata": {},
     "output_type": "execute_result"
    }
   ],
   "source": [
    "u[-7:5:2]"
   ]
  },
  {
   "cell_type": "code",
   "execution_count": 72,
   "id": "086e5013-d83b-4f15-ab23-9aa012c67ec0",
   "metadata": {},
   "outputs": [
    {
     "data": {
      "text/plain": [
       "('one', 'clg', 59)"
      ]
     },
     "execution_count": 72,
     "metadata": {},
     "output_type": "execute_result"
    }
   ],
   "source": [
    "u[-6:9:2]"
   ]
  },
  {
   "cell_type": "code",
   "execution_count": 74,
   "id": "3a81fbc8-c939-4a8b-b60d-6318099dca07",
   "metadata": {},
   "outputs": [
    {
     "data": {
      "text/plain": [
       "('clg', 59)"
      ]
     },
     "execution_count": 74,
     "metadata": {},
     "output_type": "execute_result"
    }
   ],
   "source": [
    "u[5:-1:2]"
   ]
  },
  {
   "cell_type": "code",
   "execution_count": 76,
   "id": "b46b6a61-d16a-4fe1-8c4f-e90d88740bdd",
   "metadata": {},
   "outputs": [
    {
     "data": {
      "text/plain": [
       "((9+8j), 'one', 'sleep', 'clg', 76, 59, 22.4)"
      ]
     },
     "execution_count": 76,
     "metadata": {},
     "output_type": "execute_result"
    }
   ],
   "source": [
    "u[2:9]"
   ]
  },
  {
   "cell_type": "code",
   "execution_count": 82,
   "id": "8dce708c-3694-4df3-803a-0e6fca7885c4",
   "metadata": {},
   "outputs": [
    {
     "data": {
      "text/plain": [
       "()"
      ]
     },
     "execution_count": 82,
     "metadata": {},
     "output_type": "execute_result"
    }
   ],
   "source": [
    "u[9:2]"
   ]
  },
  {
   "cell_type": "code",
   "execution_count": 84,
   "id": "15b84c0a-d6c4-4fb4-9117-8cf9c5c63127",
   "metadata": {},
   "outputs": [
    {
     "data": {
      "text/plain": [
       "(1, 90, (9+8j), 'one', 'sleep', 'clg', 76, 59, 22.4)"
      ]
     },
     "execution_count": 84,
     "metadata": {},
     "output_type": "execute_result"
    }
   ],
   "source": [
    "u[:]"
   ]
  },
  {
   "cell_type": "code",
   "execution_count": 86,
   "id": "f0afb928-9efe-4c67-a934-3b2ca89783b9",
   "metadata": {},
   "outputs": [
    {
     "data": {
      "text/plain": [
       "(76, 59, 22.4)"
      ]
     },
     "execution_count": 86,
     "metadata": {},
     "output_type": "execute_result"
    }
   ],
   "source": [
    "u[-3:]"
   ]
  },
  {
   "cell_type": "code",
   "execution_count": 6,
   "id": "ac2e026d-651f-483e-89f4-01ca61a7c516",
   "metadata": {},
   "outputs": [
    {
     "ename": "AttributeError",
     "evalue": "'tuple' object has no attribute 'append'",
     "output_type": "error",
     "traceback": [
      "\u001b[1;31m---------------------------------------------------------------------------\u001b[0m",
      "\u001b[1;31mAttributeError\u001b[0m                            Traceback (most recent call last)",
      "Cell \u001b[1;32mIn[6], line 2\u001b[0m\n\u001b[0;32m      1\u001b[0m u\u001b[38;5;241m=\u001b[39m(\u001b[38;5;241m1\u001b[39m,\u001b[38;5;241m90\u001b[39m,\u001b[38;5;241m9\u001b[39m\u001b[38;5;241m+\u001b[39m\u001b[38;5;241m8\u001b[39mj,\u001b[38;5;124m'\u001b[39m\u001b[38;5;124mone\u001b[39m\u001b[38;5;124m'\u001b[39m,\u001b[38;5;124m'\u001b[39m\u001b[38;5;124msleep\u001b[39m\u001b[38;5;124m'\u001b[39m,\u001b[38;5;124m'\u001b[39m\u001b[38;5;124mclg\u001b[39m\u001b[38;5;124m'\u001b[39m,\u001b[38;5;241m76\u001b[39m,\u001b[38;5;241m59\u001b[39m,\u001b[38;5;241m22.4\u001b[39m)\n\u001b[1;32m----> 2\u001b[0m u\u001b[38;5;241m.\u001b[39mappend(\u001b[38;5;241m66\u001b[39m)\n\u001b[0;32m      3\u001b[0m u\n",
      "\u001b[1;31mAttributeError\u001b[0m: 'tuple' object has no attribute 'append'"
     ]
    }
   ],
   "source": [
    "u=(1,90,9+8j,'one','sleep','clg',76,59,22.4)\n",
    "u.append(66)\n",
    "u"
   ]
  },
  {
   "cell_type": "code",
   "execution_count": 8,
   "id": "1330d610-681b-4367-88ff-d769cd564a27",
   "metadata": {},
   "outputs": [
    {
     "ename": "AttributeError",
     "evalue": "'tuple' object has no attribute 'remove'",
     "output_type": "error",
     "traceback": [
      "\u001b[1;31m---------------------------------------------------------------------------\u001b[0m",
      "\u001b[1;31mAttributeError\u001b[0m                            Traceback (most recent call last)",
      "Cell \u001b[1;32mIn[8], line 1\u001b[0m\n\u001b[1;32m----> 1\u001b[0m u\u001b[38;5;241m.\u001b[39mremove(\u001b[38;5;241m90\u001b[39m)\n\u001b[0;32m      2\u001b[0m u\n",
      "\u001b[1;31mAttributeError\u001b[0m: 'tuple' object has no attribute 'remove'"
     ]
    }
   ],
   "source": [
    "u.remove(90) #tuple is immutable\n",
    "u"
   ]
  },
  {
   "cell_type": "code",
   "execution_count": 10,
   "id": "8553fad5-4527-4947-9306-75968d3ec65e",
   "metadata": {},
   "outputs": [
    {
     "data": {
      "text/plain": [
       "1"
      ]
     },
     "execution_count": 10,
     "metadata": {},
     "output_type": "execute_result"
    }
   ],
   "source": [
    "u.count(90)"
   ]
  },
  {
   "cell_type": "code",
   "execution_count": 12,
   "id": "d495ae8a-4b30-4012-bb40-df26b8f58ca8",
   "metadata": {},
   "outputs": [
    {
     "data": {
      "text/plain": [
       "3"
      ]
     },
     "execution_count": 12,
     "metadata": {},
     "output_type": "execute_result"
    }
   ],
   "source": [
    "u.index('one')"
   ]
  },
  {
   "cell_type": "code",
   "execution_count": 58,
   "id": "9ee29fb9-a502-44e1-a2f5-b3b307ebb53f",
   "metadata": {},
   "outputs": [
    {
     "data": {
      "text/plain": [
       "1"
      ]
     },
     "execution_count": 58,
     "metadata": {},
     "output_type": "execute_result"
    }
   ],
   "source": [
    "u.index(90)"
   ]
  },
  {
   "cell_type": "code",
   "execution_count": 14,
   "id": "93205c70-3510-4d70-8bb1-e610b5f28d59",
   "metadata": {},
   "outputs": [
    {
     "ename": "AttributeError",
     "evalue": "'tuple' object has no attribute 'copy'",
     "output_type": "error",
     "traceback": [
      "\u001b[1;31m---------------------------------------------------------------------------\u001b[0m",
      "\u001b[1;31mAttributeError\u001b[0m                            Traceback (most recent call last)",
      "Cell \u001b[1;32mIn[14], line 1\u001b[0m\n\u001b[1;32m----> 1\u001b[0m r\u001b[38;5;241m=\u001b[39mu\u001b[38;5;241m.\u001b[39mcopy()\n",
      "\u001b[1;31mAttributeError\u001b[0m: 'tuple' object has no attribute 'copy'"
     ]
    }
   ],
   "source": [
    "r=u.copy()"
   ]
  },
  {
   "cell_type": "code",
   "execution_count": 36,
   "id": "0b1a0eee-d016-4d72-ac52-db516e37be34",
   "metadata": {},
   "outputs": [
    {
     "ename": "TypeError",
     "evalue": "'tuple' object does not support item assignment",
     "output_type": "error",
     "traceback": [
      "\u001b[1;31m---------------------------------------------------------------------------\u001b[0m",
      "\u001b[1;31mTypeError\u001b[0m                                 Traceback (most recent call last)",
      "Cell \u001b[1;32mIn[36], line 1\u001b[0m\n\u001b[1;32m----> 1\u001b[0m u[\u001b[38;5;241m2\u001b[39m]\u001b[38;5;241m=\u001b[39m\u001b[38;5;241m32\u001b[39m\n\u001b[0;32m      2\u001b[0m u\n",
      "\u001b[1;31mTypeError\u001b[0m: 'tuple' object does not support item assignment"
     ]
    }
   ],
   "source": [
    "u[2]=32\n",
    "u"
   ]
  },
  {
   "cell_type": "code",
   "execution_count": 38,
   "id": "82b0d322-bf70-426e-87a9-9dc2f6bdf1a1",
   "metadata": {},
   "outputs": [
    {
     "name": "stdout",
     "output_type": "stream",
     "text": [
      "1\n",
      "90\n",
      "(9+8j)\n",
      "one\n",
      "sleep\n",
      "clg\n",
      "76\n",
      "59\n",
      "22.4\n"
     ]
    }
   ],
   "source": [
    "for i in u:\n",
    "    print(i)"
   ]
  },
  {
   "cell_type": "code",
   "execution_count": 40,
   "id": "1782c996-a8be-4321-a661-b5ceb9687880",
   "metadata": {},
   "outputs": [
    {
     "name": "stdout",
     "output_type": "stream",
     "text": [
      "(0, 1)\n",
      "(1, 90)\n",
      "(2, (9+8j))\n",
      "(3, 'one')\n",
      "(4, 'sleep')\n",
      "(5, 'clg')\n",
      "(6, 76)\n",
      "(7, 59)\n",
      "(8, 22.4)\n"
     ]
    }
   ],
   "source": [
    "for i in enumerate(u):\n",
    "    print(i)"
   ]
  },
  {
   "cell_type": "code",
   "execution_count": 71,
   "id": "882d496e-386d-4b51-9047-339dd78005a8",
   "metadata": {},
   "outputs": [],
   "source": [
    "r=(88,'m','h',99,9.8,'j')"
   ]
  },
  {
   "cell_type": "code",
   "execution_count": 54,
   "id": "2284588c-f53e-4c6f-820c-d265e35252ba",
   "metadata": {},
   "outputs": [
    {
     "data": {
      "text/plain": [
       "(88,\n",
       " 'm',\n",
       " 'h',\n",
       " 99,\n",
       " 9.8,\n",
       " 'j',\n",
       " 88,\n",
       " 'm',\n",
       " 'h',\n",
       " 99,\n",
       " 9.8,\n",
       " 'j',\n",
       " 88,\n",
       " 'm',\n",
       " 'h',\n",
       " 99,\n",
       " 9.8,\n",
       " 'j')"
      ]
     },
     "execution_count": 54,
     "metadata": {},
     "output_type": "execute_result"
    }
   ],
   "source": [
    "e=r*3\n",
    "e"
   ]
  },
  {
   "cell_type": "code",
   "execution_count": 56,
   "id": "735fb0d0-0f7d-4fb5-aa0a-0cb30f9ba9cd",
   "metadata": {},
   "outputs": [
    {
     "name": "stdout",
     "output_type": "stream",
     "text": [
      "2810507435104\n"
     ]
    }
   ],
   "source": [
    "print(id(e))"
   ]
  },
  {
   "cell_type": "code",
   "execution_count": null,
   "id": "fa174255-2a04-470c-906f-c16d0c4dd782",
   "metadata": {},
   "outputs": [],
   "source": [
    "y=(66,8,4,59,69,)"
   ]
  }
 ],
 "metadata": {
  "kernelspec": {
   "display_name": "Python 3 (ipykernel)",
   "language": "python",
   "name": "python3"
  },
  "language_info": {
   "codemirror_mode": {
    "name": "ipython",
    "version": 3
   },
   "file_extension": ".py",
   "mimetype": "text/x-python",
   "name": "python",
   "nbconvert_exporter": "python",
   "pygments_lexer": "ipython3",
   "version": "3.12.7"
  }
 },
 "nbformat": 4,
 "nbformat_minor": 5
}
