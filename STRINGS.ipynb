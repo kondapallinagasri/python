{
 "cells": [
  {
   "cell_type": "markdown",
   "id": "2b2a4cbb-3b26-4592-bb30-21fbda3219f3",
   "metadata": {},
   "source": [
    "strings"
   ]
  },
  {
   "cell_type": "code",
   "execution_count": 7,
   "id": "e3f186e4-6c03-4af6-aa46-182368c1f6e7",
   "metadata": {},
   "outputs": [
    {
     "name": "stdout",
     "output_type": "stream",
     "text": [
      "hii!\n",
      "whats your name?\n",
      "I'm nagasri.\n"
     ]
    }
   ],
   "source": [
    "print(\"hii!\\nwhats your name?\\nI'm nagasri.\")"
   ]
  },
  {
   "cell_type": "markdown",
   "id": "5030e490-c82a-46da-b8ee-71e489f57cd3",
   "metadata": {},
   "source": [
    "RAW STRINGS"
   ]
  },
  {
   "cell_type": "code",
   "execution_count": 10,
   "id": "0eb3ef2b-8351-4b85-882e-f322e6f992c8",
   "metadata": {},
   "outputs": [
    {
     "name": "stdout",
     "output_type": "stream",
     "text": [
      "hii!\\nwhats your name?\\nI'm nagasri.\n"
     ]
    }
   ],
   "source": [
    "print(r\"hii!\\nwhats your name?\\nI'm nagasri.\")"
   ]
  },
  {
   "cell_type": "markdown",
   "id": "c6c37419-4374-4476-a555-e3641bbbb9f4",
   "metadata": {},
   "source": [
    "MULTILINE STRINGS"
   ]
  },
  {
   "cell_type": "code",
   "execution_count": 15,
   "id": "defe651a-5cd3-415d-973d-44c94bd5b5b5",
   "metadata": {},
   "outputs": [
    {
     "name": "stdout",
     "output_type": "stream",
     "text": [
      " hello all,whats up?\n",
      "    all good\n",
      "    have a nice day guys\n",
      "    thanks you\n"
     ]
    }
   ],
   "source": [
    "print(\n",
    "    \"\"\" hello all,whats up?\n",
    "    all good\n",
    "    have a nice day guys\n",
    "    thanks you\"\"\"\n",
    ")"
   ]
  },
  {
   "cell_type": "markdown",
   "id": "5d9ddb2b-50d1-4502-bd1f-5a7641f5a340",
   "metadata": {},
   "source": [
    "Indexing and Slicing strings"
   ]
  },
  {
   "cell_type": "code",
   "execution_count": 18,
   "id": "e0dc54da-2b07-4d81-a83f-297be4a81dc6",
   "metadata": {},
   "outputs": [
    {
     "data": {
      "text/plain": [
       "'november 5'"
      ]
     },
     "execution_count": 18,
     "metadata": {},
     "output_type": "execute_result"
    }
   ],
   "source": [
    "t='november 5'\n",
    "t"
   ]
  },
  {
   "cell_type": "code",
   "execution_count": 20,
   "id": "ac69fe70-b130-4a30-8c2c-efe391fc7789",
   "metadata": {},
   "outputs": [
    {
     "data": {
      "text/plain": [
       "'n'"
      ]
     },
     "execution_count": 20,
     "metadata": {},
     "output_type": "execute_result"
    }
   ],
   "source": [
    "t[0]"
   ]
  },
  {
   "cell_type": "code",
   "execution_count": 22,
   "id": "2106961c-991f-43ff-a8bf-6cd03d9f8494",
   "metadata": {},
   "outputs": [
    {
     "data": {
      "text/plain": [
       "'5'"
      ]
     },
     "execution_count": 22,
     "metadata": {},
     "output_type": "execute_result"
    }
   ],
   "source": [
    "t[9]"
   ]
  },
  {
   "cell_type": "code",
   "execution_count": 24,
   "id": "edc406d5-abbc-4613-93d7-08495424a657",
   "metadata": {},
   "outputs": [
    {
     "data": {
      "text/plain": [
       "' '"
      ]
     },
     "execution_count": 24,
     "metadata": {},
     "output_type": "execute_result"
    }
   ],
   "source": [
    "t[8]"
   ]
  },
  {
   "cell_type": "code",
   "execution_count": 26,
   "id": "c2eccb25-ca23-443f-bcf7-01af24947224",
   "metadata": {},
   "outputs": [
    {
     "data": {
      "text/plain": [
       "' '"
      ]
     },
     "execution_count": 26,
     "metadata": {},
     "output_type": "execute_result"
    }
   ],
   "source": [
    "t[-2]"
   ]
  },
  {
   "cell_type": "code",
   "execution_count": 28,
   "id": "35e1886e-680e-452c-ab77-a0b717eb199d",
   "metadata": {},
   "outputs": [
    {
     "data": {
      "text/plain": [
       "'oebr'"
      ]
     },
     "execution_count": 28,
     "metadata": {},
     "output_type": "execute_result"
    }
   ],
   "source": [
    "t[1:9:2]"
   ]
  },
  {
   "cell_type": "code",
   "execution_count": 30,
   "id": "8b4d5440-355c-4ac4-bc34-04d76ff74781",
   "metadata": {},
   "outputs": [
    {
     "data": {
      "text/plain": [
       "'nvme '"
      ]
     },
     "execution_count": 30,
     "metadata": {},
     "output_type": "execute_result"
    }
   ],
   "source": [
    "t[0:9:2]"
   ]
  },
  {
   "cell_type": "code",
   "execution_count": 32,
   "id": "023047b4-2a35-47fa-b372-aa5370c2018c",
   "metadata": {},
   "outputs": [
    {
     "data": {
      "text/plain": [
       "'november '"
      ]
     },
     "execution_count": 32,
     "metadata": {},
     "output_type": "execute_result"
    }
   ],
   "source": [
    "t[:-1]"
   ]
  },
  {
   "cell_type": "code",
   "execution_count": 34,
   "id": "7b5e3853-2afd-439d-bb17-2add10c58228",
   "metadata": {},
   "outputs": [
    {
     "data": {
      "text/plain": [
       "'5'"
      ]
     },
     "execution_count": 34,
     "metadata": {},
     "output_type": "execute_result"
    }
   ],
   "source": [
    "t[-1:]"
   ]
  },
  {
   "cell_type": "code",
   "execution_count": 36,
   "id": "3e54dcf6-0378-46e0-8a7f-58a71a92bd21",
   "metadata": {},
   "outputs": [
    {
     "data": {
      "text/plain": [
       "'november 5'"
      ]
     },
     "execution_count": 36,
     "metadata": {},
     "output_type": "execute_result"
    }
   ],
   "source": [
    "t[:]"
   ]
  },
  {
   "cell_type": "code",
   "execution_count": 38,
   "id": "d1db97b7-8c13-46dd-9faa-e0b3f7ccdb35",
   "metadata": {},
   "outputs": [
    {
     "data": {
      "text/plain": [
       "'5 rebmevon'"
      ]
     },
     "execution_count": 38,
     "metadata": {},
     "output_type": "execute_result"
    }
   ],
   "source": [
    "t[::-1]"
   ]
  },
  {
   "cell_type": "markdown",
   "id": "ddee008b-8627-4eb1-b529-fd0c98667cf5",
   "metadata": {},
   "source": [
    " The in and not in operators"
   ]
  },
  {
   "cell_type": "code",
   "execution_count": 41,
   "id": "7dde02f3-c79f-4f38-a4cd-2c509e979a32",
   "metadata": {},
   "outputs": [
    {
     "data": {
      "text/plain": [
       "True"
      ]
     },
     "execution_count": 41,
     "metadata": {},
     "output_type": "execute_result"
    }
   ],
   "source": [
    "'data' in 'data analytics'"
   ]
  },
  {
   "cell_type": "code",
   "execution_count": 43,
   "id": "a8f8e127-2681-41f7-9cc7-79a2e03e8a49",
   "metadata": {},
   "outputs": [
    {
     "data": {
      "text/plain": [
       "False"
      ]
     },
     "execution_count": 43,
     "metadata": {},
     "output_type": "execute_result"
    }
   ],
   "source": [
    "'DATA' in  'data analytics'"
   ]
  },
  {
   "cell_type": "code",
   "execution_count": 45,
   "id": "2f77a6cc-d8a4-4267-b459-7a2e6136dd4e",
   "metadata": {},
   "outputs": [
    {
     "data": {
      "text/plain": [
       "True"
      ]
     },
     "execution_count": 45,
     "metadata": {},
     "output_type": "execute_result"
    }
   ],
   "source": [
    "' ' in  'data analytics'"
   ]
  },
  {
   "cell_type": "code",
   "execution_count": 47,
   "id": "367aef40-ef77-4d15-b64c-385814d801e2",
   "metadata": {},
   "outputs": [
    {
     "data": {
      "text/plain": [
       "False"
      ]
     },
     "execution_count": 47,
     "metadata": {},
     "output_type": "execute_result"
    }
   ],
   "source": [
    "'data' not in  'data analytics'"
   ]
  },
  {
   "cell_type": "markdown",
   "id": "004485bb-13e9-48ae-9193-40d1d501c3c0",
   "metadata": {},
   "source": [
    " upper(), lower() and title()"
   ]
  },
  {
   "cell_type": "code",
   "execution_count": 52,
   "id": "62db26cd-40d0-4b4c-92c3-5eb5d1b6d16c",
   "metadata": {},
   "outputs": [
    {
     "data": {
      "text/plain": [
       "'VIRAT  KOHLI'"
      ]
     },
     "execution_count": 52,
     "metadata": {},
     "output_type": "execute_result"
    }
   ],
   "source": [
    "u='virat  kohli'\n",
    "u.upper()\n"
   ]
  },
  {
   "cell_type": "code",
   "execution_count": 56,
   "id": "3520faf6-42f3-42af-bbd9-d1fe77a09108",
   "metadata": {},
   "outputs": [
    {
     "data": {
      "text/plain": [
       "'virat  kohli'"
      ]
     },
     "execution_count": 56,
     "metadata": {},
     "output_type": "execute_result"
    }
   ],
   "source": [
    "u.lower()"
   ]
  },
  {
   "cell_type": "code",
   "execution_count": 58,
   "id": "ccecb372-840b-4d9b-8f6c-cdb03b7bb50a",
   "metadata": {},
   "outputs": [
    {
     "data": {
      "text/plain": [
       "'Virat  Kohli'"
      ]
     },
     "execution_count": 58,
     "metadata": {},
     "output_type": "execute_result"
    }
   ],
   "source": [
    "u.title()"
   ]
  },
  {
   "cell_type": "markdown",
   "id": "c2cd188d-24ca-4df8-bd02-273d7546a6ad",
   "metadata": {},
   "source": [
    " isupper() and islower() methods"
   ]
  },
  {
   "cell_type": "code",
   "execution_count": 61,
   "id": "e3371cdd-4595-4d43-9d57-d22f7c0fe7ac",
   "metadata": {},
   "outputs": [
    {
     "data": {
      "text/plain": [
       "True"
      ]
     },
     "execution_count": 61,
     "metadata": {},
     "output_type": "execute_result"
    }
   ],
   "source": [
    "t= 'mumyyyy'\n",
    "t.islower()"
   ]
  },
  {
   "cell_type": "code",
   "execution_count": 63,
   "id": "abb22d3c-cede-49d2-95d9-cb3730950a29",
   "metadata": {},
   "outputs": [
    {
     "data": {
      "text/plain": [
       "False"
      ]
     },
     "execution_count": 63,
     "metadata": {},
     "output_type": "execute_result"
    }
   ],
   "source": [
    "t.isupper()"
   ]
  },
  {
   "cell_type": "code",
   "execution_count": 65,
   "id": "8c0d91a5-14e1-4217-b4d4-77bdf3b8e6ba",
   "metadata": {},
   "outputs": [
    {
     "data": {
      "text/plain": [
       "True"
      ]
     },
     "execution_count": 65,
     "metadata": {},
     "output_type": "execute_result"
    }
   ],
   "source": [
    "'NAGASRIII'.isupper()"
   ]
  },
  {
   "cell_type": "code",
   "execution_count": 67,
   "id": "97eb7cb7-fb89-450b-a9bb-e5f410afa31a",
   "metadata": {},
   "outputs": [
    {
     "data": {
      "text/plain": [
       "'Nagasri'"
      ]
     },
     "execution_count": 67,
     "metadata": {},
     "output_type": "execute_result"
    }
   ],
   "source": [
    "'nagasri' .title()"
   ]
  },
  {
   "cell_type": "code",
   "execution_count": 69,
   "id": "3cec2f27-2a9f-40c5-994c-ce7da7cecbef",
   "metadata": {},
   "outputs": [
    {
     "data": {
      "text/plain": [
       "True"
      ]
     },
     "execution_count": 69,
     "metadata": {},
     "output_type": "execute_result"
    }
   ],
   "source": [
    "'nagasri'.islower()"
   ]
  },
  {
   "cell_type": "code",
   "execution_count": 73,
   "id": "33228c5c-179a-4f0e-8f51-9c54bacde5e2",
   "metadata": {},
   "outputs": [
    {
     "data": {
      "text/plain": [
       "False"
      ]
     },
     "execution_count": 73,
     "metadata": {},
     "output_type": "execute_result"
    }
   ],
   "source": [
    "'123456789'.isupper()"
   ]
  },
  {
   "cell_type": "code",
   "execution_count": 75,
   "id": "244d1d54-8efd-440a-a9f7-fcf701861982",
   "metadata": {},
   "outputs": [
    {
     "data": {
      "text/plain": [
       "False"
      ]
     },
     "execution_count": 75,
     "metadata": {},
     "output_type": "execute_result"
    }
   ],
   "source": [
    "'123456789'.islower()"
   ]
  },
  {
   "cell_type": "markdown",
   "id": "5ce0dcae-7836-4b14-be6b-eef833aab2cf",
   "metadata": {},
   "source": [
    " startswith() and endswith()"
   ]
  },
  {
   "cell_type": "code",
   "execution_count": 78,
   "id": "00adb381-a43d-4f5a-b433-938ebdc216c3",
   "metadata": {},
   "outputs": [
    {
     "data": {
      "text/plain": [
       "True"
      ]
     },
     "execution_count": 78,
     "metadata": {},
     "output_type": "execute_result"
    }
   ],
   "source": [
    "'data science' .startswith('data') "
   ]
  },
  {
   "cell_type": "code",
   "execution_count": 80,
   "id": "fa47ba58-2036-4ea3-9e67-8621bdc7a74b",
   "metadata": {},
   "outputs": [
    {
     "data": {
      "text/plain": [
       "False"
      ]
     },
     "execution_count": 80,
     "metadata": {},
     "output_type": "execute_result"
    }
   ],
   "source": [
    "'data science' .endswith('data')"
   ]
  },
  {
   "cell_type": "code",
   "execution_count": 82,
   "id": "a3c04a9b-e3a3-46c9-af1d-038b0778992b",
   "metadata": {},
   "outputs": [
    {
     "data": {
      "text/plain": [
       "True"
      ]
     },
     "execution_count": 82,
     "metadata": {},
     "output_type": "execute_result"
    }
   ],
   "source": [
    "'data science' .endswith('science')"
   ]
  },
  {
   "cell_type": "code",
   "execution_count": 90,
   "id": "78dd0016-8678-415e-81e9-c7df68f5fb8e",
   "metadata": {},
   "outputs": [
    {
     "data": {
      "text/plain": [
       "True"
      ]
     },
     "execution_count": 90,
     "metadata": {},
     "output_type": "execute_result"
    }
   ],
   "source": [
    "'nagasri01'.endswith('1')"
   ]
  },
  {
   "cell_type": "markdown",
   "id": "d5acb4a6-bccc-4c51-97ef-0a5fc5e909d6",
   "metadata": {},
   "source": [
    " join() and split()"
   ]
  },
  {
   "cell_type": "code",
   "execution_count": 93,
   "id": "e4daf684-92dc-48ce-bb82-f7b1a366dcc3",
   "metadata": {},
   "outputs": [
    {
     "data": {
      "text/plain": [
       "'mynameisnagasri'"
      ]
     },
     "execution_count": 93,
     "metadata": {},
     "output_type": "execute_result"
    }
   ],
   "source": [
    "''.join(['my','name','is','nagasri'])"
   ]
  },
  {
   "cell_type": "code",
   "execution_count": 95,
   "id": "bf335245-845d-425e-bf98-5b1805b59d11",
   "metadata": {},
   "outputs": [
    {
     "data": {
      "text/plain": [
       "'my  name  is  nagasri'"
      ]
     },
     "execution_count": 95,
     "metadata": {},
     "output_type": "execute_result"
    }
   ],
   "source": [
    "'  '.join(['my','name','is','nagasri'])"
   ]
  },
  {
   "cell_type": "code",
   "execution_count": 97,
   "id": "cdd13da9-ee32-4c5e-b5f0-1c4fc4a61ba8",
   "metadata": {},
   "outputs": [
    {
     "data": {
      "text/plain": [
       "'insta, wtsapp, snap'"
      ]
     },
     "execution_count": 97,
     "metadata": {},
     "output_type": "execute_result"
    }
   ],
   "source": [
    "', '.join(['insta','wtsapp','snap'])"
   ]
  },
  {
   "cell_type": "code",
   "execution_count": 4,
   "id": "21b737dd-9f87-40c3-97fd-5605a74318a7",
   "metadata": {},
   "outputs": [
    {
     "data": {
      "text/plain": [
       "'isWHATnameWHAThi'"
      ]
     },
     "execution_count": 4,
     "metadata": {},
     "output_type": "execute_result"
    }
   ],
   "source": [
    "'WHAT'.join(['is','name','hi'])"
   ]
  },
  {
   "cell_type": "code",
   "execution_count": 1,
   "id": "d431a877-4c41-441e-a4e8-087eb30125bb",
   "metadata": {},
   "outputs": [
    {
     "data": {
      "text/plain": [
       "['my', 'name', 'is', 'nagasri']"
      ]
     },
     "execution_count": 1,
     "metadata": {},
     "output_type": "execute_result"
    }
   ],
   "source": [
    "'my name is nagasri'.split()"
   ]
  },
  {
   "cell_type": "code",
   "execution_count": 3,
   "id": "a80689a1-b7ff-4b93-9ccd-66ca4f02d986",
   "metadata": {},
   "outputs": [
    {
     "data": {
      "text/plain": [
       "['is', 'name', 'hi']"
      ]
     },
     "execution_count": 3,
     "metadata": {},
     "output_type": "execute_result"
    }
   ],
   "source": [
    "'isWHATnameWHAThi'.split('WHAT')"
   ]
  },
  {
   "cell_type": "code",
   "execution_count": 5,
   "id": "92bee8e0-82bb-4c4f-b930-45ceea362d06",
   "metadata": {},
   "outputs": [
    {
     "data": {
      "text/plain": [
       "['my n', 'me is n', 'g', 'sri']"
      ]
     },
     "execution_count": 5,
     "metadata": {},
     "output_type": "execute_result"
    }
   ],
   "source": [
    "'my name is nagasri'.split('a')"
   ]
  },
  {
   "cell_type": "code",
   "execution_count": 7,
   "id": "83aaf8ed-1282-4471-afbf-a7685143c2f2",
   "metadata": {},
   "outputs": [
    {
     "data": {
      "text/plain": [
       "['my', 'name', 'is', 'nagasri']"
      ]
     },
     "execution_count": 7,
     "metadata": {},
     "output_type": "execute_result"
    }
   ],
   "source": [
    "'my name is nagasri'.split()"
   ]
  },
  {
   "cell_type": "code",
   "execution_count": 9,
   "id": "995206b3-576b-4071-9efd-6d41a66fbd3f",
   "metadata": {},
   "outputs": [
    {
     "data": {
      "text/plain": [
       "['my', 'name', 'is', 'nagasri']"
      ]
     },
     "execution_count": 9,
     "metadata": {},
     "output_type": "execute_result"
    }
   ],
   "source": [
    "'my name is nagasri'.split(' ')"
   ]
  },
  {
   "cell_type": "markdown",
   "id": "366aa1f3-9de4-44a3-8b66-abbb89d14570",
   "metadata": {},
   "source": [
    " Justifying text with rjust(), ljust() and center()"
   ]
  },
  {
   "cell_type": "code",
   "execution_count": 12,
   "id": "ebf66752-841d-4aab-bc7f-84c58551fbcd",
   "metadata": {},
   "outputs": [
    {
     "data": {
      "text/plain": [
       "'      josh'"
      ]
     },
     "execution_count": 12,
     "metadata": {},
     "output_type": "execute_result"
    }
   ],
   "source": [
    "'josh'.rjust(10)"
   ]
  },
  {
   "cell_type": "code",
   "execution_count": 14,
   "id": "bd5bd0e1-9885-4250-bb9f-b62364b592f6",
   "metadata": {},
   "outputs": [
    {
     "data": {
      "text/plain": [
       "'                          josh'"
      ]
     },
     "execution_count": 14,
     "metadata": {},
     "output_type": "execute_result"
    }
   ],
   "source": [
    "'josh'.rjust(30)"
   ]
  },
  {
   "cell_type": "code",
   "execution_count": 16,
   "id": "b4090216-f034-40d3-8bc4-311005a67e7b",
   "metadata": {},
   "outputs": [
    {
     "data": {
      "text/plain": [
       "'josh      '"
      ]
     },
     "execution_count": 16,
     "metadata": {},
     "output_type": "execute_result"
    }
   ],
   "source": [
    "'josh'.ljust(10)"
   ]
  },
  {
   "cell_type": "code",
   "execution_count": 18,
   "id": "406f8d8d-ddb7-467c-a96b-d97699c986dc",
   "metadata": {},
   "outputs": [
    {
     "data": {
      "text/plain": [
       "'josh                                   '"
      ]
     },
     "execution_count": 18,
     "metadata": {},
     "output_type": "execute_result"
    }
   ],
   "source": [
    "'josh'.ljust(39)"
   ]
  },
  {
   "cell_type": "code",
   "execution_count": 20,
   "id": "e6a4c834-0274-4485-b388-c9bb80a13ac6",
   "metadata": {},
   "outputs": [
    {
     "data": {
      "text/plain": [
       "'   josh   '"
      ]
     },
     "execution_count": 20,
     "metadata": {},
     "output_type": "execute_result"
    }
   ],
   "source": [
    "'josh'.center(10)"
   ]
  },
  {
   "cell_type": "code",
   "execution_count": 24,
   "id": "1ef06a80-1f77-4b5d-bf62-179a2f8128ac",
   "metadata": {},
   "outputs": [
    {
     "data": {
      "text/plain": [
       "'           josh          '"
      ]
     },
     "execution_count": 24,
     "metadata": {},
     "output_type": "execute_result"
    }
   ],
   "source": [
    "'josh'.center(25)"
   ]
  },
  {
   "cell_type": "code",
   "execution_count": 1,
   "id": "3e0dad3c-3e5d-430b-b433-a239520c4e0d",
   "metadata": {},
   "outputs": [
    {
     "data": {
      "text/plain": [
       "'****************josh'"
      ]
     },
     "execution_count": 1,
     "metadata": {},
     "output_type": "execute_result"
    }
   ],
   "source": [
    "'josh'.rjust(20,'*')"
   ]
  },
  {
   "cell_type": "code",
   "execution_count": 3,
   "id": "9df6d8fe-67b6-43a9-ad7e-1209bdc2aa9f",
   "metadata": {},
   "outputs": [
    {
     "data": {
      "text/plain": [
       "'----------------josh'"
      ]
     },
     "execution_count": 3,
     "metadata": {},
     "output_type": "execute_result"
    }
   ],
   "source": [
    "'josh'.rjust(20,'-')"
   ]
  },
  {
   "cell_type": "code",
   "execution_count": 5,
   "id": "6220ac9d-225c-4285-a4c6-c52820ae366c",
   "metadata": {},
   "outputs": [
    {
     "data": {
      "text/plain": [
       "'josh----------------'"
      ]
     },
     "execution_count": 5,
     "metadata": {},
     "output_type": "execute_result"
    }
   ],
   "source": [
    "'josh'.ljust(20,'-')"
   ]
  },
  {
   "cell_type": "code",
   "execution_count": 7,
   "id": "1316d13f-2b57-426d-b649-a3b42c501475",
   "metadata": {},
   "outputs": [
    {
     "data": {
      "text/plain": [
       "'josh................'"
      ]
     },
     "execution_count": 7,
     "metadata": {},
     "output_type": "execute_result"
    }
   ],
   "source": [
    "'josh'.ljust(20,'.')"
   ]
  },
  {
   "cell_type": "code",
   "execution_count": 9,
   "id": "497b6f80-0ad0-451c-9050-f7a60cbdd906",
   "metadata": {},
   "outputs": [
    {
     "data": {
      "text/plain": [
       "'--------josh--------'"
      ]
     },
     "execution_count": 9,
     "metadata": {},
     "output_type": "execute_result"
    }
   ],
   "source": [
    "'josh'.center(20,'-')"
   ]
  },
  {
   "cell_type": "markdown",
   "id": "55600090-be74-45a8-b85e-76acd24cfc55",
   "metadata": {},
   "source": [
    "Removing whitespace with strip(), rstrip(), and lstrip()"
   ]
  },
  {
   "cell_type": "code",
   "execution_count": 12,
   "id": "4c901591-f4f2-422c-b363-9a68b056d331",
   "metadata": {},
   "outputs": [
    {
     "data": {
      "text/plain": [
       "'josh'"
      ]
     },
     "execution_count": 12,
     "metadata": {},
     "output_type": "execute_result"
    }
   ],
   "source": [
    "s='      josh      '\n",
    "s.strip()"
   ]
  },
  {
   "cell_type": "code",
   "execution_count": 14,
   "id": "89e5b348-5b65-4424-926f-4e59cd06636c",
   "metadata": {},
   "outputs": [
    {
     "data": {
      "text/plain": [
       "'josh      '"
      ]
     },
     "execution_count": 14,
     "metadata": {},
     "output_type": "execute_result"
    }
   ],
   "source": [
    "s.lstrip()"
   ]
  },
  {
   "cell_type": "code",
   "execution_count": 16,
   "id": "f8358d11-8368-4144-b8c2-be9cb12b2acd",
   "metadata": {},
   "outputs": [
    {
     "data": {
      "text/plain": [
       "'      josh'"
      ]
     },
     "execution_count": 16,
     "metadata": {},
     "output_type": "execute_result"
    }
   ],
   "source": [
    "s.rstrip()"
   ]
  },
  {
   "cell_type": "markdown",
   "id": "1bafa13f-a47d-4246-8158-f1bb6edadf10",
   "metadata": {},
   "source": [
    " The Count Method"
   ]
  },
  {
   "cell_type": "code",
   "execution_count": 27,
   "id": "a1805832-a2bc-44d9-9c85-844db43c62e0",
   "metadata": {},
   "outputs": [],
   "source": [
    "t='data science and data analyst'"
   ]
  },
  {
   "cell_type": "code",
   "execution_count": 29,
   "id": "598a37ce-996b-4853-91d2-763c9472083d",
   "metadata": {},
   "outputs": [
    {
     "data": {
      "text/plain": [
       "2"
      ]
     },
     "execution_count": 29,
     "metadata": {},
     "output_type": "execute_result"
    }
   ],
   "source": [
    "t.count('data')"
   ]
  },
  {
   "cell_type": "code",
   "execution_count": 31,
   "id": "409b81da-435e-4837-a9cc-b87ef170c18a",
   "metadata": {},
   "outputs": [
    {
     "data": {
      "text/plain": [
       "7"
      ]
     },
     "execution_count": 31,
     "metadata": {},
     "output_type": "execute_result"
    }
   ],
   "source": [
    "t.count('a')"
   ]
  },
  {
   "cell_type": "code",
   "execution_count": 33,
   "id": "7d8dded9-2146-4775-8ba6-c2d4f94fe2fd",
   "metadata": {},
   "outputs": [
    {
     "data": {
      "text/plain": [
       "5"
      ]
     },
     "execution_count": 33,
     "metadata": {},
     "output_type": "execute_result"
    }
   ],
   "source": [
    "t.count('a',4)"
   ]
  },
  {
   "cell_type": "code",
   "execution_count": 37,
   "id": "777f5396-14c7-4c79-9398-c6c29242e4ec",
   "metadata": {},
   "outputs": [
    {
     "data": {
      "text/plain": [
       "1"
      ]
     },
     "execution_count": 37,
     "metadata": {},
     "output_type": "execute_result"
    }
   ],
   "source": [
    "t.count('e',9)"
   ]
  },
  {
   "cell_type": "markdown",
   "id": "eefc8f55-e555-4c3a-bea6-4f5586f32260",
   "metadata": {},
   "source": [
    " Replace Method"
   ]
  },
  {
   "cell_type": "code",
   "execution_count": 40,
   "id": "d54e070a-4f2d-4f76-bdc5-0766cbde2945",
   "metadata": {},
   "outputs": [],
   "source": [
    "r='hloo everyone!'"
   ]
  },
  {
   "cell_type": "code",
   "execution_count": 42,
   "id": "93f85ae1-4d52-4435-9fa0-744f20429d7f",
   "metadata": {},
   "outputs": [
    {
     "data": {
      "text/plain": [
       "'hiii everyone!'"
      ]
     },
     "execution_count": 42,
     "metadata": {},
     "output_type": "execute_result"
    }
   ],
   "source": [
    "r.replace('hloo','hiii')"
   ]
  },
  {
   "cell_type": "code",
   "execution_count": 44,
   "id": "b8bf8e9c-2ade-4df1-931b-3ce204f81992",
   "metadata": {},
   "outputs": [],
   "source": [
    "w='vegetables,fruits,sweets'"
   ]
  },
  {
   "cell_type": "code",
   "execution_count": 46,
   "id": "742fd4eb-8639-4840-886d-110618265b9e",
   "metadata": {},
   "outputs": [
    {
     "data": {
      "text/plain": [
       "'salads,fruits,sweets'"
      ]
     },
     "execution_count": 46,
     "metadata": {},
     "output_type": "execute_result"
    }
   ],
   "source": [
    "w.replace('vegetables','salads')"
   ]
  },
  {
   "cell_type": "code",
   "execution_count": 48,
   "id": "b06f5894-b325-4035-8e4c-1a8a5693a1e2",
   "metadata": {},
   "outputs": [],
   "source": [
    "q=\"hi,I'm from mhbd\""
   ]
  },
  {
   "cell_type": "code",
   "execution_count": 50,
   "id": "b24ac34d-bbf2-4aa0-b61a-851f26d97642",
   "metadata": {},
   "outputs": [
    {
     "data": {
      "text/plain": [
       "\"hi,I'm from hyd\""
      ]
     },
     "execution_count": 50,
     "metadata": {},
     "output_type": "execute_result"
    }
   ],
   "source": [
    "q.replace('mhbd','hyd')"
   ]
  },
  {
   "cell_type": "code",
   "execution_count": 3,
   "id": "688f1f1e-c956-438b-ba94-32b25297e47f",
   "metadata": {},
   "outputs": [],
   "source": [
    "q='abcabcabcabcabc'"
   ]
  },
  {
   "cell_type": "code",
   "execution_count": 11,
   "id": "076daa3e-74f8-4b92-9b48-13984d4d1172",
   "metadata": {},
   "outputs": [
    {
     "data": {
      "text/plain": [
       "'bcabcabcabcab'"
      ]
     },
     "execution_count": 11,
     "metadata": {},
     "output_type": "execute_result"
    }
   ],
   "source": [
    "q.strip('ca')"
   ]
  },
  {
   "cell_type": "code",
   "execution_count": 8,
   "id": "a3bae2d9-20b3-4803-9441-c236164fe46a",
   "metadata": {},
   "outputs": [
    {
     "data": {
      "text/plain": [
       "'yahoo'"
      ]
     },
     "execution_count": 8,
     "metadata": {},
     "output_type": "execute_result"
    }
   ],
   "source": [
    "n='yahoo'\n",
    "n.casefold()"
   ]
  },
  {
   "cell_type": "code",
   "execution_count": 10,
   "id": "7c971a52-506c-4f27-9823-6b5434486253",
   "metadata": {},
   "outputs": [
    {
     "data": {
      "text/plain": [
       "'YAHOO'"
      ]
     },
     "execution_count": 10,
     "metadata": {},
     "output_type": "execute_result"
    }
   ],
   "source": [
    "n.upper()"
   ]
  },
  {
   "cell_type": "code",
   "execution_count": 32,
   "id": "70165824-c09c-430c-9b09-805a177929a0",
   "metadata": {},
   "outputs": [
    {
     "data": {
      "text/plain": [
       "'yahoo'"
      ]
     },
     "execution_count": 32,
     "metadata": {},
     "output_type": "execute_result"
    }
   ],
   "source": [
    "n.strip()"
   ]
  },
  {
   "cell_type": "code",
   "execution_count": 34,
   "id": "efe4859a-464c-4ed7-b231-875d30fbff25",
   "metadata": {},
   "outputs": [
    {
     "data": {
      "text/plain": [
       "-1"
      ]
     },
     "execution_count": 34,
     "metadata": {},
     "output_type": "execute_result"
    }
   ],
   "source": [
    "n.rfind('n')"
   ]
  },
  {
   "cell_type": "code",
   "execution_count": null,
   "id": "617a8105-7915-4063-bf61-b633a5888de1",
   "metadata": {},
   "outputs": [],
   "source": [
    "s1='nagasri'\n"
   ]
  },
  {
   "cell_type": "code",
   "execution_count": 54,
   "id": "cc0a517b-6f51-43b3-a34e-ba992404eff1",
   "metadata": {},
   "outputs": [
    {
     "name": "stdout",
     "output_type": "stream",
     "text": [
      "--python--\n"
     ]
    }
   ],
   "source": [
    "t='python'\n",
    "padded_text=t.center(10,'-')\n",
    "print(padded_text)"
   ]
  },
  {
   "cell_type": "code",
   "execution_count": 56,
   "id": "3e8c4fdf-54e8-443d-9db4-ae52829e62c1",
   "metadata": {},
   "outputs": [
    {
     "data": {
      "text/plain": [
       "['hlo', 'all', 'howare', 'you', 'guys?']"
      ]
     },
     "execution_count": 56,
     "metadata": {},
     "output_type": "execute_result"
    }
   ],
   "source": [
    "t='hlo all howare you guys?'\n",
    "t.split()"
   ]
  },
  {
   "cell_type": "code",
   "execution_count": 66,
   "id": "cb0fb7ae-0fa6-4aec-b5ee-3d451c414db4",
   "metadata": {},
   "outputs": [
    {
     "data": {
      "text/plain": [
       "['hlo', 'all', 'howare', 'you', 'guys-?']"
      ]
     },
     "execution_count": 66,
     "metadata": {},
     "output_type": "execute_result"
    }
   ],
   "source": [
    "t='hlo-all-howare-you-guys-?'\n",
    "t.split('-',maxsplit=4)"
   ]
  },
  {
   "cell_type": "code",
   "execution_count": 70,
   "id": "50773382-4336-4208-9104-211a2cfd795f",
   "metadata": {},
   "outputs": [
    {
     "name": "stdout",
     "output_type": "stream",
     "text": [
      "the price is$13.00\n"
     ]
    }
   ],
   "source": [
    "price=13\n",
    "formatted_price=f'the price is${price:.2f}'\n",
    "print(formatted_price)"
   ]
  },
  {
   "cell_type": "code",
   "execution_count": 82,
   "id": "0fcaba82-ab66-4677-a43d-be3cf0f9927f",
   "metadata": {},
   "outputs": [
    {
     "name": "stdout",
     "output_type": "stream",
     "text": [
      "my name is nagasri my age is 22\n"
     ]
    }
   ],
   "source": [
    "i='nagasri'\n",
    "j=22\n",
    "g=f\"my name is {i} my age is {j}\"\n",
    "print(g)"
   ]
  },
  {
   "cell_type": "code",
   "execution_count": 97,
   "id": "52844073-7aab-41da-b317-c15c36c518e3",
   "metadata": {},
   "outputs": [
    {
     "name": "stdout",
     "output_type": "stream",
     "text": [
      "hiiiiiiiii\n"
     ]
    }
   ],
   "source": [
    "t='######hiiiiiiiii#############'\n",
    "clean_t=t.strip('#')\n",
    "print(clean_t)"
   ]
  },
  {
   "cell_type": "code",
   "execution_count": 115,
   "id": "db7ae154-1726-4f24-b9cf-7d3c0a4fc72b",
   "metadata": {},
   "outputs": [
    {
     "name": "stdout",
     "output_type": "stream",
     "text": [
      "0\n",
      "30\n"
     ]
    },
    {
     "ename": "ValueError",
     "evalue": "substring not found",
     "output_type": "error",
     "traceback": [
      "\u001b[1;31m---------------------------------------------------------------------------\u001b[0m",
      "\u001b[1;31mValueError\u001b[0m                                Traceback (most recent call last)",
      "Cell \u001b[1;32mIn[115], line 4\u001b[0m\n\u001b[0;32m      2\u001b[0m \u001b[38;5;28mprint\u001b[39m(i\u001b[38;5;241m.\u001b[39mindex(\u001b[38;5;124m'\u001b[39m\u001b[38;5;124mpython\u001b[39m\u001b[38;5;124m'\u001b[39m))\n\u001b[0;32m      3\u001b[0m \u001b[38;5;28mprint\u001b[39m(i\u001b[38;5;241m.\u001b[39mrindex(\u001b[38;5;124m'\u001b[39m\u001b[38;5;124mpython\u001b[39m\u001b[38;5;124m'\u001b[39m))\n\u001b[1;32m----> 4\u001b[0m \u001b[38;5;28mprint\u001b[39m(i\u001b[38;5;241m.\u001b[39mindex(\u001b[38;5;124m'\u001b[39m\u001b[38;5;124mjava\u001b[39m\u001b[38;5;124m'\u001b[39m))\n",
      "\u001b[1;31mValueError\u001b[0m: substring not found"
     ]
    }
   ],
   "source": [
    "i='python is programing language python is very easy'\n",
    "print(i.index('python'))\n",
    "print(i.rindex('python'))\n",
    "print(i.index('java'))"
   ]
  },
  {
   "cell_type": "code",
   "execution_count": 117,
   "id": "fb54ef2a-4e55-4df0-bea2-1301b8c66cea",
   "metadata": {},
   "outputs": [
    {
     "name": "stdout",
     "output_type": "stream",
     "text": [
      "0\n"
     ]
    }
   ],
   "source": [
    "print(i.find('python'))"
   ]
  },
  {
   "cell_type": "code",
   "execution_count": 119,
   "id": "5e9c206a-e46b-45fd-a94e-c82c3fc8b114",
   "metadata": {},
   "outputs": [
    {
     "name": "stdout",
     "output_type": "stream",
     "text": [
      "-1\n"
     ]
    }
   ],
   "source": [
    "print(i.find('java'))"
   ]
  },
  {
   "cell_type": "code",
   "execution_count": 121,
   "id": "337332b4-95ea-49e5-af70-334e0bc375de",
   "metadata": {},
   "outputs": [
    {
     "name": "stdout",
     "output_type": "stream",
     "text": [
      "-1\n"
     ]
    }
   ],
   "source": [
    "print(i.rfind('java'))"
   ]
  },
  {
   "cell_type": "code",
   "execution_count": 123,
   "id": "a156b04a-a4ac-4ead-b9fb-705aece78ac5",
   "metadata": {},
   "outputs": [
    {
     "name": "stdout",
     "output_type": "stream",
     "text": [
      "0\n"
     ]
    }
   ],
   "source": [
    "print(i.find('python'))"
   ]
  },
  {
   "cell_type": "code",
   "execution_count": 125,
   "id": "671115c4-5ee5-4de1-b0c5-566119b29ac6",
   "metadata": {},
   "outputs": [
    {
     "name": "stdout",
     "output_type": "stream",
     "text": [
      "30\n"
     ]
    }
   ],
   "source": [
    "print(i.rfind('python'))"
   ]
  },
  {
   "cell_type": "code",
   "execution_count": 127,
   "id": "a1d57d30-ba30-4f04-a911-1c6c44e373b0",
   "metadata": {},
   "outputs": [
    {
     "name": "stdout",
     "output_type": "stream",
     "text": [
      "java is programing language java is very easy\n"
     ]
    }
   ],
   "source": [
    "print(i.replace('python','java'))"
   ]
  },
  {
   "cell_type": "code",
   "execution_count": 147,
   "id": "5da1697d-6aa0-4928-9a6e-c5d3009f7816",
   "metadata": {},
   "outputs": [
    {
     "name": "stdout",
     "output_type": "stream",
     "text": [
      "java is programing language java is very easy\n"
     ]
    }
   ],
   "source": [
    "print(i.replace('python','java'))"
   ]
  },
  {
   "cell_type": "code",
   "execution_count": 165,
   "id": "54233423-d3cd-40be-8ac8-830fb7dada00",
   "metadata": {},
   "outputs": [
    {
     "name": "stdout",
     "output_type": "stream",
     "text": [
      "nagasri\n",
      "nagasri\n",
      "nagasri\n",
      "nagasri\n",
      "nagasri\n",
      "\n"
     ]
    }
   ],
   "source": [
    "i='nagasri''\\n'\n",
    "print(i*5)"
   ]
  },
  {
   "cell_type": "code",
   "execution_count": null,
   "id": "5c2bdd17-510a-4203-827e-bf84d7b8a1d0",
   "metadata": {},
   "outputs": [],
   "source": []
  }
 ],
 "metadata": {
  "kernelspec": {
   "display_name": "Python 3 (ipykernel)",
   "language": "python",
   "name": "python3"
  },
  "language_info": {
   "codemirror_mode": {
    "name": "ipython",
    "version": 3
   },
   "file_extension": ".py",
   "mimetype": "text/x-python",
   "name": "python",
   "nbconvert_exporter": "python",
   "pygments_lexer": "ipython3",
   "version": "3.12.7"
  }
 },
 "nbformat": 4,
 "nbformat_minor": 5
}
