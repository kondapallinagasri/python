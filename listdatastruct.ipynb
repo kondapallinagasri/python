{
 "cells": [
  {
   "cell_type": "markdown",
   "id": "d66084e9-e571-4990-8ecf-ab40ffbab0f7",
   "metadata": {},
   "source": [
    "list datastructure"
   ]
  },
  {
   "cell_type": "code",
   "execution_count": 34,
   "id": "72e18b94-c12c-4c6a-8f16-8939bc62f95d",
   "metadata": {},
   "outputs": [
    {
     "data": {
      "text/plain": [
       "[]"
      ]
     },
     "execution_count": 34,
     "metadata": {},
     "output_type": "execute_result"
    }
   ],
   "source": [
    "l=[]\n",
    "l"
   ]
  },
  {
   "cell_type": "code",
   "execution_count": 35,
   "id": "fdebab41-5a1e-41e6-87f1-a17b25297804",
   "metadata": {},
   "outputs": [
    {
     "data": {
      "text/plain": [
       "list"
      ]
     },
     "execution_count": 35,
     "metadata": {},
     "output_type": "execute_result"
    }
   ],
   "source": [
    "type(l)"
   ]
  },
  {
   "cell_type": "code",
   "execution_count": 36,
   "id": "3a8c427d-da1d-46df-a10d-533e617f0a2d",
   "metadata": {},
   "outputs": [
    {
     "data": {
      "text/plain": [
       "[1, 2, 6, 9, 'nagasri', 'data', 45]"
      ]
     },
     "execution_count": 36,
     "metadata": {},
     "output_type": "execute_result"
    }
   ],
   "source": [
    "l=[1,2,6,9,'nagasri','data',45]\n",
    "l"
   ]
  },
  {
   "cell_type": "code",
   "execution_count": 37,
   "id": "c739e0d8-dcb8-4b8a-93f0-f18515f125d4",
   "metadata": {},
   "outputs": [
    {
     "data": {
      "text/plain": [
       "[99, 22.4, (1+3j), True, 'r']"
      ]
     },
     "execution_count": 37,
     "metadata": {},
     "output_type": "execute_result"
    }
   ],
   "source": [
    "l1=[99,22.4,1+3j,True,'r']\n",
    "l1"
   ]
  },
  {
   "cell_type": "code",
   "execution_count": 38,
   "id": "ab60a475-9fa4-40b1-91e5-3d1ef32b6c51",
   "metadata": {},
   "outputs": [
    {
     "data": {
      "text/plain": [
       "[1, 2, 6, 9, 'nagasri', 'data', 45, True]"
      ]
     },
     "execution_count": 38,
     "metadata": {},
     "output_type": "execute_result"
    }
   ],
   "source": [
    "l.append (True)\n",
    "l"
   ]
  },
  {
   "cell_type": "code",
   "execution_count": 39,
   "id": "9ea9d112-32f7-428b-aa22-8abd347e35f3",
   "metadata": {},
   "outputs": [
    {
     "data": {
      "text/plain": [
       "[99, 22.4, (1+3j), True, 'r', False]"
      ]
     },
     "execution_count": 39,
     "metadata": {},
     "output_type": "execute_result"
    }
   ],
   "source": [
    "l1.append(False)\n",
    "l1"
   ]
  },
  {
   "cell_type": "code",
   "execution_count": 40,
   "id": "fdd594be-bbb1-41f9-b63c-cf5f6c71b29e",
   "metadata": {},
   "outputs": [
    {
     "data": {
      "text/plain": [
       "[2, 6, 9, 'nagasri', 'data', 45, True]"
      ]
     },
     "execution_count": 40,
     "metadata": {},
     "output_type": "execute_result"
    }
   ],
   "source": [
    "l.remove(True)\n",
    "l"
   ]
  },
  {
   "cell_type": "code",
   "execution_count": 41,
   "id": "28b68196-3b28-4260-82dd-6ae546b2786c",
   "metadata": {},
   "outputs": [
    {
     "data": {
      "text/plain": [
       "[1, 1, 4, 'h', 2, 'h', 1, 88, 2, 7, 'h']"
      ]
     },
     "execution_count": 41,
     "metadata": {},
     "output_type": "execute_result"
    }
   ],
   "source": [
    "l3=[1,1,4,'h',2,'h',1,88,2,7,'h']\n",
    "l3"
   ]
  },
  {
   "cell_type": "code",
   "execution_count": 42,
   "id": "7d104ac9-7067-4524-9574-2966697d2a36",
   "metadata": {},
   "outputs": [
    {
     "data": {
      "text/plain": [
       "[1, 1, 4, 2, 'h', 1, 88, 2, 7, 'h']"
      ]
     },
     "execution_count": 42,
     "metadata": {},
     "output_type": "execute_result"
    }
   ],
   "source": [
    "l3.remove('h')\n",
    "l3"
   ]
  },
  {
   "cell_type": "code",
   "execution_count": 43,
   "id": "1910bb42-71fa-47cf-9664-ef78def0b397",
   "metadata": {},
   "outputs": [
    {
     "data": {
      "text/plain": [
       "10"
      ]
     },
     "execution_count": 43,
     "metadata": {},
     "output_type": "execute_result"
    }
   ],
   "source": [
    "len(l3)"
   ]
  },
  {
   "cell_type": "code",
   "execution_count": 44,
   "id": "7533cfd4-3f96-494c-afde-fcff10031ac9",
   "metadata": {},
   "outputs": [
    {
     "data": {
      "text/plain": [
       "['n', 1, 1, 4, 2, 'h', 1, 88, 2, 7, 'h']"
      ]
     },
     "execution_count": 44,
     "metadata": {},
     "output_type": "execute_result"
    }
   ],
   "source": [
    "l3.insert(0,'n')\n",
    "l3"
   ]
  },
  {
   "cell_type": "code",
   "execution_count": 45,
   "id": "23c8259d-0c1f-415c-8df5-23c8a6299b2e",
   "metadata": {},
   "outputs": [
    {
     "data": {
      "text/plain": [
       "['n', 1, 1, 4, 2, 'h', 1, 88, 2, 1, 7, 'h']"
      ]
     },
     "execution_count": 45,
     "metadata": {},
     "output_type": "execute_result"
    }
   ],
   "source": [
    "l3.insert(9,1)\n",
    "l3"
   ]
  },
  {
   "cell_type": "code",
   "execution_count": 46,
   "id": "2b367739-0ddf-434e-8b72-112a4c0593d6",
   "metadata": {},
   "outputs": [
    {
     "data": {
      "text/plain": [
       "['n', 1, 1, 4, 2, 'h', 1, 88, 2, 1, 7, 'h', 'v']"
      ]
     },
     "execution_count": 46,
     "metadata": {},
     "output_type": "execute_result"
    }
   ],
   "source": [
    "l3.insert(14,'v')\n",
    "l3"
   ]
  },
  {
   "cell_type": "code",
   "execution_count": 47,
   "id": "fb11aa4d-a825-4cb0-98ba-6a643509c77d",
   "metadata": {},
   "outputs": [
    {
     "data": {
      "text/plain": [
       "[1, 2, 6, 9, 'nagasri', 'data', 45]"
      ]
     },
     "execution_count": 47,
     "metadata": {},
     "output_type": "execute_result"
    }
   ],
   "source": [
    "l=[1,2,6,9,'nagasri','data',45]\n",
    "l"
   ]
  },
  {
   "cell_type": "code",
   "execution_count": 48,
   "id": "eea61edb-278c-46bf-97aa-1eebefdad3a0",
   "metadata": {},
   "outputs": [
    {
     "data": {
      "text/plain": [
       "['virat', 1, 2, 6, 9, 'nagasri', 'data', 45]"
      ]
     },
     "execution_count": 48,
     "metadata": {},
     "output_type": "execute_result"
    }
   ],
   "source": [
    "l.insert(0,'virat')\n",
    "l"
   ]
  },
  {
   "cell_type": "code",
   "execution_count": 49,
   "id": "8d44b28f-b879-4b5e-b918-b6cf16797ea2",
   "metadata": {},
   "outputs": [
    {
     "data": {
      "text/plain": [
       "['virat', 1, 2, 6, 9, 'nagasri', 'data', 45, 'o']"
      ]
     },
     "execution_count": 49,
     "metadata": {},
     "output_type": "execute_result"
    }
   ],
   "source": [
    "l.insert(8,'o')\n",
    "l"
   ]
  },
  {
   "cell_type": "markdown",
   "id": "eaf86774-ee32-4cf6-b1df-74c6eefda705",
   "metadata": {},
   "source": [
    "indexing"
   ]
  },
  {
   "cell_type": "code",
   "execution_count": 51,
   "id": "e94e988a-8311-4fe3-a4ff-999c31ce82b3",
   "metadata": {},
   "outputs": [
    {
     "data": {
      "text/plain": [
       "[1, 1, 4, 'h', 2, 'h', 1, 88, 2, 7, 'h']"
      ]
     },
     "execution_count": 51,
     "metadata": {},
     "output_type": "execute_result"
    }
   ],
   "source": [
    "l3=[1,1,4,'h',2,'h',1,88,2,7,'h']\n",
    "l3"
   ]
  },
  {
   "cell_type": "code",
   "execution_count": 52,
   "id": "393a6543-5713-4313-8755-2d9faf886307",
   "metadata": {},
   "outputs": [
    {
     "data": {
      "text/plain": [
       "1"
      ]
     },
     "execution_count": 52,
     "metadata": {},
     "output_type": "execute_result"
    }
   ],
   "source": [
    "l3[0]"
   ]
  },
  {
   "cell_type": "code",
   "execution_count": 53,
   "id": "d5505f33-9bed-4252-9be5-3c27051d04fb",
   "metadata": {},
   "outputs": [
    {
     "data": {
      "text/plain": [
       "7"
      ]
     },
     "execution_count": 53,
     "metadata": {},
     "output_type": "execute_result"
    }
   ],
   "source": [
    "l3[-2]"
   ]
  },
  {
   "cell_type": "code",
   "execution_count": 54,
   "id": "e179d80f-7867-46ed-9e00-f5a1d6d113fe",
   "metadata": {},
   "outputs": [
    {
     "data": {
      "text/plain": [
       "1"
      ]
     },
     "execution_count": 54,
     "metadata": {},
     "output_type": "execute_result"
    }
   ],
   "source": [
    "l3[6]"
   ]
  },
  {
   "cell_type": "markdown",
   "id": "82987744-4eb8-431f-9364-434a256fdb0a",
   "metadata": {},
   "source": [
    "Slicing"
   ]
  },
  {
   "cell_type": "code",
   "execution_count": 56,
   "id": "ab7080cb-3078-4d63-9666-452c92dac654",
   "metadata": {},
   "outputs": [
    {
     "data": {
      "text/plain": [
       "['nagasri', 'data', 1, 7, 18, 45, 'analytics', 100]"
      ]
     },
     "execution_count": 56,
     "metadata": {},
     "output_type": "execute_result"
    }
   ],
   "source": [
    "l4=['nagasri','data',1,7,18,45,'analytics',100]\n",
    "l4"
   ]
  },
  {
   "cell_type": "code",
   "execution_count": 57,
   "id": "375c7e5f-bddb-4f70-9d92-5ee820f8509e",
   "metadata": {},
   "outputs": [
    {
     "data": {
      "text/plain": [
       "['nagasri', 'data', 1]"
      ]
     },
     "execution_count": 57,
     "metadata": {},
     "output_type": "execute_result"
    }
   ],
   "source": [
    "l4[0:3]"
   ]
  },
  {
   "cell_type": "code",
   "execution_count": 58,
   "id": "f66b12bb-726d-48fc-992e-8c8384efc384",
   "metadata": {},
   "outputs": [
    {
     "data": {
      "text/plain": [
       "[1, 7, 18]"
      ]
     },
     "execution_count": 58,
     "metadata": {},
     "output_type": "execute_result"
    }
   ],
   "source": [
    "l4[2:5]"
   ]
  },
  {
   "cell_type": "code",
   "execution_count": 59,
   "id": "d862fc39-668f-4e3d-af8a-d61caa9649c8",
   "metadata": {},
   "outputs": [
    {
     "data": {
      "text/plain": [
       "[7, 18, 45, 'analytics', 100]"
      ]
     },
     "execution_count": 59,
     "metadata": {},
     "output_type": "execute_result"
    }
   ],
   "source": [
    "l4[-5:]"
   ]
  },
  {
   "cell_type": "code",
   "execution_count": 60,
   "id": "d52a85a6-b4c7-4e7e-ad96-5a625c816794",
   "metadata": {},
   "outputs": [
    {
     "data": {
      "text/plain": [
       "['nagasri', 'data', 1, 7, 18, 45, 'analytics', 100]"
      ]
     },
     "execution_count": 60,
     "metadata": {},
     "output_type": "execute_result"
    }
   ],
   "source": [
    "l4"
   ]
  },
  {
   "cell_type": "code",
   "execution_count": 61,
   "id": "8effb224-306a-49fa-b1b1-ddd07016d4b2",
   "metadata": {},
   "outputs": [
    {
     "data": {
      "text/plain": [
       "['nagasri', 'data', 1]"
      ]
     },
     "execution_count": 61,
     "metadata": {},
     "output_type": "execute_result"
    }
   ],
   "source": [
    "l4[:-5]"
   ]
  },
  {
   "cell_type": "code",
   "execution_count": 62,
   "id": "d57802bd-4443-4557-9168-b2f0dd10b1ba",
   "metadata": {},
   "outputs": [
    {
     "data": {
      "text/plain": [
       "[7, 18, 45]"
      ]
     },
     "execution_count": 62,
     "metadata": {},
     "output_type": "execute_result"
    }
   ],
   "source": [
    "l4[-5:-2]"
   ]
  },
  {
   "cell_type": "code",
   "execution_count": 63,
   "id": "527cbb87-de71-4481-b667-5f948b52d062",
   "metadata": {},
   "outputs": [
    {
     "data": {
      "text/plain": [
       "[7, 18, 45, 'analytics']"
      ]
     },
     "execution_count": 63,
     "metadata": {},
     "output_type": "execute_result"
    }
   ],
   "source": [
    "l4[3:7]"
   ]
  },
  {
   "cell_type": "code",
   "execution_count": 64,
   "id": "f5eeef16-428b-4ed1-afd5-737b126657c1",
   "metadata": {},
   "outputs": [
    {
     "data": {
      "text/plain": [
       "['nagasri', 'data', 1, 7, 18, 45, 'analytics', 100]"
      ]
     },
     "execution_count": 64,
     "metadata": {},
     "output_type": "execute_result"
    }
   ],
   "source": [
    "l4[0:8]"
   ]
  },
  {
   "cell_type": "code",
   "execution_count": 65,
   "id": "a57fdc6f-fca3-49dd-b7c6-8a8a19808e6f",
   "metadata": {},
   "outputs": [
    {
     "data": {
      "text/plain": [
       "['nagasri', 'data', 1, 7, 18, 45, 'analytics']"
      ]
     },
     "execution_count": 65,
     "metadata": {},
     "output_type": "execute_result"
    }
   ],
   "source": [
    "l4[:7]"
   ]
  },
  {
   "cell_type": "code",
   "execution_count": 66,
   "id": "33a52925-95fc-4cd4-b151-885b29203906",
   "metadata": {},
   "outputs": [
    {
     "data": {
      "text/plain": [
       "['nagasri', 'data', 1, 7]"
      ]
     },
     "execution_count": 66,
     "metadata": {},
     "output_type": "execute_result"
    }
   ],
   "source": [
    "l4[:4]"
   ]
  },
  {
   "cell_type": "code",
   "execution_count": 67,
   "id": "7c2783a2-d4d2-427a-91c5-7e4dbc0002b6",
   "metadata": {},
   "outputs": [
    {
     "data": {
      "text/plain": [
       "[45, 'analytics', 100]"
      ]
     },
     "execution_count": 67,
     "metadata": {},
     "output_type": "execute_result"
    }
   ],
   "source": [
    "l4[5:]"
   ]
  },
  {
   "cell_type": "code",
   "execution_count": 68,
   "id": "d5c392f8-d28b-444b-b6c7-5c20c3fdd522",
   "metadata": {},
   "outputs": [
    {
     "data": {
      "text/plain": [
       "['nagasri', 'data', 1, 7, 18, 45, 'analytics', 100]"
      ]
     },
     "execution_count": 68,
     "metadata": {},
     "output_type": "execute_result"
    }
   ],
   "source": [
    "l4[:]"
   ]
  },
  {
   "cell_type": "code",
   "execution_count": 69,
   "id": "b8e27d3f-553d-4790-830b-3fde33cad4ab",
   "metadata": {},
   "outputs": [
    {
     "data": {
      "text/plain": [
       "[18, 45, 'analytics', 100]"
      ]
     },
     "execution_count": 69,
     "metadata": {},
     "output_type": "execute_result"
    }
   ],
   "source": [
    "l4[4:]"
   ]
  },
  {
   "cell_type": "code",
   "execution_count": 70,
   "id": "589e9326-34df-435d-be9f-45e9e7ca2858",
   "metadata": {},
   "outputs": [
    {
     "data": {
      "text/plain": [
       "['nagasri', 'data', 1, 7]"
      ]
     },
     "execution_count": 70,
     "metadata": {},
     "output_type": "execute_result"
    }
   ],
   "source": [
    "l4[:4]"
   ]
  },
  {
   "cell_type": "markdown",
   "id": "f726cebf-b62f-46f0-81da-9381e4e0f736",
   "metadata": {},
   "source": [
    "pop"
   ]
  },
  {
   "cell_type": "code",
   "execution_count": 72,
   "id": "7be033be-2b06-445e-93c1-b11af26befe2",
   "metadata": {},
   "outputs": [
    {
     "data": {
      "text/plain": [
       "[1, 2, 6, 9, 'nagasri', 'data', 45]"
      ]
     },
     "execution_count": 72,
     "metadata": {},
     "output_type": "execute_result"
    }
   ],
   "source": [
    "l=[1,2,6,9,'nagasri','data',45]\n",
    "l"
   ]
  },
  {
   "cell_type": "code",
   "execution_count": 73,
   "id": "e8702dd2-3dc3-48a3-ae6a-8a343a874b1e",
   "metadata": {},
   "outputs": [
    {
     "data": {
      "text/plain": [
       "[1, 2, 6, 9, 'nagasri', 'data']"
      ]
     },
     "execution_count": 73,
     "metadata": {},
     "output_type": "execute_result"
    }
   ],
   "source": [
    "l.pop()\n",
    "l"
   ]
  },
  {
   "cell_type": "code",
   "execution_count": 74,
   "id": "3a856444-8c54-4d62-8e2a-75b13df088bf",
   "metadata": {},
   "outputs": [
    {
     "data": {
      "text/plain": [
       "[1, 6, 9, 'nagasri', 'data']"
      ]
     },
     "execution_count": 74,
     "metadata": {},
     "output_type": "execute_result"
    }
   ],
   "source": [
    "l.pop(1)\n",
    "l"
   ]
  },
  {
   "cell_type": "code",
   "execution_count": 75,
   "id": "7f32ba77-a887-4b3f-9c94-d3fb71a2ff60",
   "metadata": {},
   "outputs": [
    {
     "data": {
      "text/plain": [
       "[6, 9, 'nagasri', 'data']"
      ]
     },
     "execution_count": 75,
     "metadata": {},
     "output_type": "execute_result"
    }
   ],
   "source": [
    "l.pop(0)\n",
    "l"
   ]
  },
  {
   "cell_type": "code",
   "execution_count": 76,
   "id": "ed6199c4-b221-4baa-b933-a9ea0f7f7efd",
   "metadata": {},
   "outputs": [
    {
     "data": {
      "text/plain": [
       "[6, 9, 'data']"
      ]
     },
     "execution_count": 76,
     "metadata": {},
     "output_type": "execute_result"
    }
   ],
   "source": [
    "l.pop(2)\n",
    "l"
   ]
  },
  {
   "cell_type": "code",
   "execution_count": 77,
   "id": "415213f4-98c3-439b-8bdb-ba4d5aa93722",
   "metadata": {},
   "outputs": [
    {
     "data": {
      "text/plain": [
       "[]"
      ]
     },
     "execution_count": 77,
     "metadata": {},
     "output_type": "execute_result"
    }
   ],
   "source": [
    "l.clear()\n",
    "l"
   ]
  },
  {
   "cell_type": "code",
   "execution_count": 78,
   "id": "019ea37b-5b42-459e-8f6b-945025bdf7ed",
   "metadata": {},
   "outputs": [
    {
     "ename": "NameError",
     "evalue": "name 'l' is not defined",
     "output_type": "error",
     "traceback": [
      "\u001b[1;31m---------------------------------------------------------------------------\u001b[0m",
      "\u001b[1;31mNameError\u001b[0m                                 Traceback (most recent call last)",
      "Cell \u001b[1;32mIn[78], line 2\u001b[0m\n\u001b[0;32m      1\u001b[0m \u001b[38;5;28;01mdel\u001b[39;00m l\n\u001b[1;32m----> 2\u001b[0m l\n",
      "\u001b[1;31mNameError\u001b[0m: name 'l' is not defined"
     ]
    }
   ],
   "source": [
    "del l\n",
    "l"
   ]
  },
  {
   "cell_type": "markdown",
   "id": "2740d1dc-b96a-4db9-8122-7979a9cb26e6",
   "metadata": {},
   "source": [
    "copy"
   ]
  },
  {
   "cell_type": "code",
   "execution_count": 146,
   "id": "00f711ee-9c11-4472-b81c-ee0a7503bbfc",
   "metadata": {},
   "outputs": [
    {
     "data": {
      "text/plain": [
       "[1, 2, 6, 9, 'nagasri', 'data', 45]"
      ]
     },
     "execution_count": 146,
     "metadata": {},
     "output_type": "execute_result"
    }
   ],
   "source": [
    "l=[1,2,6,9,'nagasri','data',45]\n",
    "l"
   ]
  },
  {
   "cell_type": "code",
   "execution_count": 148,
   "id": "110b3531-a1c0-461d-bac0-54bb823dfe9d",
   "metadata": {},
   "outputs": [
    {
     "data": {
      "text/plain": [
       "[1, 1, 4, 'h', 2, 'h', 1, 88, 2, 7, 'h']"
      ]
     },
     "execution_count": 148,
     "metadata": {},
     "output_type": "execute_result"
    }
   ],
   "source": [
    "l3=[1,1,4,'h',2,'h',1,88,2,7,'h']\n",
    "l3"
   ]
  },
  {
   "cell_type": "code",
   "execution_count": 150,
   "id": "f739852b-e37a-499a-ad99-be8c5f241708",
   "metadata": {},
   "outputs": [],
   "source": [
    "l6=l"
   ]
  },
  {
   "cell_type": "code",
   "execution_count": 152,
   "id": "28a50902-cc9f-4bd6-9564-efa99042f5a5",
   "metadata": {},
   "outputs": [],
   "source": [
    "l5=l.copy()"
   ]
  },
  {
   "cell_type": "code",
   "execution_count": 154,
   "id": "9114bd71-654b-4041-acae-4ef6c997f5e6",
   "metadata": {},
   "outputs": [
    {
     "data": {
      "text/plain": [
       "[1, 2, 6, 9, 'nagasri', 'data', 45]"
      ]
     },
     "execution_count": 154,
     "metadata": {},
     "output_type": "execute_result"
    }
   ],
   "source": [
    "l5"
   ]
  },
  {
   "cell_type": "code",
   "execution_count": 156,
   "id": "5c8b0131-a7bd-4ee0-bf16-c9a4bca5e7f9",
   "metadata": {},
   "outputs": [
    {
     "data": {
      "text/plain": [
       "(2995135118784, 2995135118784)"
      ]
     },
     "execution_count": 156,
     "metadata": {},
     "output_type": "execute_result"
    }
   ],
   "source": [
    "id(l),id(l6)"
   ]
  },
  {
   "cell_type": "code",
   "execution_count": 158,
   "id": "1b6747e6-1d64-4fc5-ac6e-d4dfa8c5900e",
   "metadata": {},
   "outputs": [
    {
     "data": {
      "text/plain": [
       "2995125816320"
      ]
     },
     "execution_count": 158,
     "metadata": {},
     "output_type": "execute_result"
    }
   ],
   "source": [
    "id(l5)"
   ]
  },
  {
   "cell_type": "code",
   "execution_count": 160,
   "id": "f51eed73-6664-4947-aa4b-6824f4d19060",
   "metadata": {},
   "outputs": [],
   "source": [
    "l[0]=99"
   ]
  },
  {
   "cell_type": "code",
   "execution_count": 162,
   "id": "8e7d359c-6b22-4c9e-b219-06277efe1acd",
   "metadata": {},
   "outputs": [
    {
     "data": {
      "text/plain": [
       "[99, 2, 6, 9, 'nagasri', 'data', 45]"
      ]
     },
     "execution_count": 162,
     "metadata": {},
     "output_type": "execute_result"
    }
   ],
   "source": [
    "l"
   ]
  },
  {
   "cell_type": "code",
   "execution_count": 164,
   "id": "559d5171-5edb-40e1-8edd-3302062abdef",
   "metadata": {},
   "outputs": [
    {
     "data": {
      "text/plain": [
       "[99, 2, 6, 9, 'nagasri', 'data', 45]"
      ]
     },
     "execution_count": 164,
     "metadata": {},
     "output_type": "execute_result"
    }
   ],
   "source": [
    "l6 #changesin reference list"
   ]
  },
  {
   "cell_type": "code",
   "execution_count": 166,
   "id": "20e7b218-822a-4a80-95a6-7632c45b6449",
   "metadata": {},
   "outputs": [
    {
     "data": {
      "text/plain": [
       "[1, 2, 6, 9, 'nagasri', 'data', 45]"
      ]
     },
     "execution_count": 166,
     "metadata": {},
     "output_type": "execute_result"
    }
   ],
   "source": [
    "l5 #no changes in copy list"
   ]
  },
  {
   "cell_type": "markdown",
   "id": "1b9178c3-896d-4cc6-99eb-addf7b3746db",
   "metadata": {},
   "source": [
    "joint"
   ]
  },
  {
   "cell_type": "code",
   "execution_count": 169,
   "id": "80c6e659-1983-4eac-b718-13dda763cbd3",
   "metadata": {},
   "outputs": [
    {
     "data": {
      "text/plain": [
       "[1, 2, 6, 9, 'nagasri', 'data', 45]"
      ]
     },
     "execution_count": 169,
     "metadata": {},
     "output_type": "execute_result"
    }
   ],
   "source": [
    "l=[1,2,6,9,'nagasri','data',45]\n",
    "l"
   ]
  },
  {
   "cell_type": "code",
   "execution_count": 171,
   "id": "dfc7f6fd-a5fc-4094-8fc8-319c88f66d0c",
   "metadata": {},
   "outputs": [
    {
     "data": {
      "text/plain": [
       "[1, 1, 4, 'h', 2, 'h', 1, 88, 2, 7, 'h']"
      ]
     },
     "execution_count": 171,
     "metadata": {},
     "output_type": "execute_result"
    }
   ],
   "source": [
    "l3=[1,1,4,'h',2,'h',1,88,2,7,'h']\n",
    "l3"
   ]
  },
  {
   "cell_type": "code",
   "execution_count": 173,
   "id": "f5b02393-6fba-4f07-953c-42439356574b",
   "metadata": {},
   "outputs": [
    {
     "data": {
      "text/plain": [
       "[1, 2, 6, 9, 'nagasri', 'data', 45, 1, 1, 4, 'h', 2, 'h', 1, 88, 2, 7, 'h']"
      ]
     },
     "execution_count": 173,
     "metadata": {},
     "output_type": "execute_result"
    }
   ],
   "source": [
    "l9=l+l3\n",
    "l9"
   ]
  },
  {
   "cell_type": "code",
   "execution_count": 175,
   "id": "05ea542a-4036-4abc-84eb-e87bb6efba81",
   "metadata": {},
   "outputs": [
    {
     "data": {
      "text/plain": [
       "[1, 2, 6, 9, 'nagasri', 'data', 45, 1, 1, 4, 'h', 2, 'h', 1, 88, 2, 7, 'h']"
      ]
     },
     "execution_count": 175,
     "metadata": {},
     "output_type": "execute_result"
    }
   ],
   "source": [
    "l.extend(l3)\n",
    "l"
   ]
  },
  {
   "cell_type": "markdown",
   "id": "79beaccc-ea2d-4b70-bc28-e73123bc1e56",
   "metadata": {},
   "source": [
    "list membership"
   ]
  },
  {
   "cell_type": "code",
   "execution_count": 105,
   "id": "32600ca7-a6e4-4a1e-97bc-0a4ae500a921",
   "metadata": {},
   "outputs": [
    {
     "data": {
      "text/plain": [
       "[1, 2, 6, 9, 'nagasri', 'data', 45]"
      ]
     },
     "execution_count": 105,
     "metadata": {},
     "output_type": "execute_result"
    }
   ],
   "source": [
    "l=[1,2,6,9,'nagasri','data',45]\n",
    "l"
   ]
  },
  {
   "cell_type": "code",
   "execution_count": 107,
   "id": "24b57387-e1da-4ece-aeb8-0f28a989724e",
   "metadata": {},
   "outputs": [
    {
     "data": {
      "text/plain": [
       "True"
      ]
     },
     "execution_count": 107,
     "metadata": {},
     "output_type": "execute_result"
    }
   ],
   "source": [
    "1 in l"
   ]
  },
  {
   "cell_type": "code",
   "execution_count": 109,
   "id": "4666e5b3-b841-4ba4-81ff-cbe674288d3f",
   "metadata": {},
   "outputs": [
    {
     "data": {
      "text/plain": [
       "False"
      ]
     },
     "execution_count": 109,
     "metadata": {},
     "output_type": "execute_result"
    }
   ],
   "source": [
    "3 in l"
   ]
  },
  {
   "cell_type": "markdown",
   "id": "f085a419-e399-4106-bbbf-7d0408b10bcb",
   "metadata": {},
   "source": [
    "reverse"
   ]
  },
  {
   "cell_type": "code",
   "execution_count": 112,
   "id": "49370e89-5ff4-4762-b801-83b6cd789168",
   "metadata": {},
   "outputs": [
    {
     "data": {
      "text/plain": [
       "[1, 2, 6, 9, 'nagasri', 'data', 45]"
      ]
     },
     "execution_count": 112,
     "metadata": {},
     "output_type": "execute_result"
    }
   ],
   "source": [
    "l=[1,2,6,9,'nagasri','data',45]\n",
    "l"
   ]
  },
  {
   "cell_type": "code",
   "execution_count": 114,
   "id": "e4fba0c2-f460-4698-af13-e143db221d39",
   "metadata": {},
   "outputs": [
    {
     "data": {
      "text/plain": [
       "[45, 'data', 'nagasri', 9, 6, 2, 1]"
      ]
     },
     "execution_count": 114,
     "metadata": {},
     "output_type": "execute_result"
    }
   ],
   "source": [
    "l.reverse()\n",
    "l"
   ]
  },
  {
   "cell_type": "code",
   "execution_count": 116,
   "id": "a139f432-171b-4d98-9149-17f6b4af6fe6",
   "metadata": {},
   "outputs": [
    {
     "data": {
      "text/plain": [
       "[1, 2, 6, 9, 'nagasri', 'data', 45]"
      ]
     },
     "execution_count": 116,
     "metadata": {},
     "output_type": "execute_result"
    }
   ],
   "source": [
    "l=l[::-1]\n",
    "l"
   ]
  },
  {
   "cell_type": "code",
   "execution_count": 118,
   "id": "a051213d-c30e-4c18-8fd9-f147f3f28991",
   "metadata": {},
   "outputs": [
    {
     "data": {
      "text/plain": [
       "[1, 3, 4, 5, 7]"
      ]
     },
     "execution_count": 118,
     "metadata": {},
     "output_type": "execute_result"
    }
   ],
   "source": [
    "a=[1,3,7,5,4]\n",
    "a.sort()\n",
    "a"
   ]
  },
  {
   "cell_type": "code",
   "execution_count": 120,
   "id": "0f23f4e0-dcd1-4a80-b5bf-088821048975",
   "metadata": {},
   "outputs": [
    {
     "data": {
      "text/plain": [
       "[7, 5, 4, 3, 1]"
      ]
     },
     "execution_count": 120,
     "metadata": {},
     "output_type": "execute_result"
    }
   ],
   "source": [
    "a=[1,3,7,5,4]\n",
    "a.sort(reverse=True)\n",
    "a"
   ]
  },
  {
   "cell_type": "code",
   "execution_count": 122,
   "id": "2fab8c2a-7a12-49c2-9518-86cbe19644ee",
   "metadata": {},
   "outputs": [
    {
     "data": {
      "text/plain": [
       "[1, 3, 4, 5, 7]"
      ]
     },
     "execution_count": 122,
     "metadata": {},
     "output_type": "execute_result"
    }
   ],
   "source": [
    "a=[1,3,7,5,4]\n",
    "a.sort(reverse=False)\n",
    "a"
   ]
  },
  {
   "cell_type": "code",
   "execution_count": 124,
   "id": "4c9217d5-6505-4f4c-a999-080db3227e24",
   "metadata": {},
   "outputs": [
    {
     "data": {
      "text/plain": [
       "[0, 1, 4, 5, 89, 98]"
      ]
     },
     "execution_count": 124,
     "metadata": {},
     "output_type": "execute_result"
    }
   ],
   "source": [
    "b=[1,4,5,89,98,0]\n",
    "sorted(b)\n"
   ]
  },
  {
   "cell_type": "code",
   "execution_count": 126,
   "id": "e6224c3f-cbc6-4efa-add8-882a79fa472c",
   "metadata": {},
   "outputs": [
    {
     "data": {
      "text/plain": [
       "[1, 4, 5, 89, 98, 0]"
      ]
     },
     "execution_count": 126,
     "metadata": {},
     "output_type": "execute_result"
    }
   ],
   "source": [
    "b"
   ]
  },
  {
   "cell_type": "code",
   "execution_count": 128,
   "id": "18082508-2fcf-463d-972f-8aa04d530a8c",
   "metadata": {},
   "outputs": [],
   "source": [
    "a=[1,3,7,5,4]"
   ]
  },
  {
   "cell_type": "code",
   "execution_count": 130,
   "id": "e90262f1-b532-4b55-bd6e-9253e1a417b7",
   "metadata": {},
   "outputs": [
    {
     "name": "stdout",
     "output_type": "stream",
     "text": [
      "1\n",
      "3\n",
      "7\n",
      "5\n",
      "4\n"
     ]
    }
   ],
   "source": [
    "for i in a:\n",
    " print(i)"
   ]
  },
  {
   "cell_type": "code",
   "execution_count": 132,
   "id": "361745c1-7830-4362-9220-b865fef508dc",
   "metadata": {},
   "outputs": [
    {
     "name": "stdout",
     "output_type": "stream",
     "text": [
      "(0, 1)\n",
      "(1, 3)\n",
      "(2, 7)\n",
      "(3, 5)\n",
      "(4, 4)\n"
     ]
    }
   ],
   "source": [
    "for i in enumerate(a):\n",
    "    print(i)"
   ]
  },
  {
   "cell_type": "code",
   "execution_count": 134,
   "id": "6b310ccd-4766-40a0-a2db-1c0a23bd5a64",
   "metadata": {},
   "outputs": [
    {
     "data": {
      "text/plain": [
       "[1, 1, 4, 'h', 2, 'h', 1, 88, 2, 7, 'h']"
      ]
     },
     "execution_count": 134,
     "metadata": {},
     "output_type": "execute_result"
    }
   ],
   "source": [
    "l3"
   ]
  },
  {
   "cell_type": "code",
   "execution_count": 136,
   "id": "505b8ffa-c6c2-4903-81fc-6fbccfd3d741",
   "metadata": {},
   "outputs": [
    {
     "data": {
      "text/plain": [
       "3"
      ]
     },
     "execution_count": 136,
     "metadata": {},
     "output_type": "execute_result"
    }
   ],
   "source": [
    "l3.count(1)"
   ]
  },
  {
   "cell_type": "code",
   "execution_count": 138,
   "id": "2a95907c-4cde-4ae5-9bff-89f70a2213ba",
   "metadata": {},
   "outputs": [
    {
     "data": {
      "text/plain": [
       "True"
      ]
     },
     "execution_count": 138,
     "metadata": {},
     "output_type": "execute_result"
    }
   ],
   "source": [
    "a=[1,3,7,5,4]\n",
    "all(a)"
   ]
  },
  {
   "cell_type": "code",
   "execution_count": 140,
   "id": "e9a21c60-f7b5-42d5-9b07-41643e9de420",
   "metadata": {},
   "outputs": [
    {
     "data": {
      "text/plain": [
       "True"
      ]
     },
     "execution_count": 140,
     "metadata": {},
     "output_type": "execute_result"
    }
   ],
   "source": [
    "any(a)"
   ]
  },
  {
   "cell_type": "code",
   "execution_count": 142,
   "id": "db86fe3c-50c8-4a5a-aa72-eb218ceeccae",
   "metadata": {},
   "outputs": [
    {
     "data": {
      "text/plain": [
       "False"
      ]
     },
     "execution_count": 142,
     "metadata": {},
     "output_type": "execute_result"
    }
   ],
   "source": [
    "c=[0,0,0,1]\n",
    "all(c)"
   ]
  },
  {
   "cell_type": "code",
   "execution_count": 144,
   "id": "24fe609b-3dbb-4033-bde3-f0b57943f7be",
   "metadata": {},
   "outputs": [
    {
     "data": {
      "text/plain": [
       "True"
      ]
     },
     "execution_count": 144,
     "metadata": {},
     "output_type": "execute_result"
    }
   ],
   "source": [
    "any(c)"
   ]
  },
  {
   "cell_type": "code",
   "execution_count": null,
   "id": "3cbf35d9-96f3-48ca-8da6-b419deba984e",
   "metadata": {},
   "outputs": [],
   "source": []
  }
 ],
 "metadata": {
  "kernelspec": {
   "display_name": "Python 3 (ipykernel)",
   "language": "python",
   "name": "python3"
  },
  "language_info": {
   "codemirror_mode": {
    "name": "ipython",
    "version": 3
   },
   "file_extension": ".py",
   "mimetype": "text/x-python",
   "name": "python",
   "nbconvert_exporter": "python",
   "pygments_lexer": "ipython3",
   "version": "3.12.7"
  }
 },
 "nbformat": 4,
 "nbformat_minor": 5
}
