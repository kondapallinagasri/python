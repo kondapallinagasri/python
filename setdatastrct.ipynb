{
 "cells": [
  {
   "cell_type": "markdown",
   "id": "e2b5b60b-4894-470c-91d7-9c1516e66fef",
   "metadata": {},
   "source": [
    "set datastructure"
   ]
  },
  {
   "cell_type": "code",
   "execution_count": 204,
   "id": "902d6f88-4b80-4392-88c4-3c2f23b96657",
   "metadata": {},
   "outputs": [
    {
     "data": {
      "text/plain": [
       "{}"
      ]
     },
     "execution_count": 204,
     "metadata": {},
     "output_type": "execute_result"
    }
   ],
   "source": [
    "s={}\n",
    "s"
   ]
  },
  {
   "cell_type": "code",
   "execution_count": 205,
   "id": "80bf61da-4f46-4f2d-8a2b-671cece87c34",
   "metadata": {},
   "outputs": [
    {
     "data": {
      "text/plain": [
       "dict"
      ]
     },
     "execution_count": 205,
     "metadata": {},
     "output_type": "execute_result"
    }
   ],
   "source": [
    "type(s)"
   ]
  },
  {
   "cell_type": "code",
   "execution_count": 206,
   "id": "bc54072c-e5cf-4472-b671-81c77c8d0b74",
   "metadata": {},
   "outputs": [
    {
     "data": {
      "text/plain": [
       "set"
      ]
     },
     "execution_count": 206,
     "metadata": {},
     "output_type": "execute_result"
    }
   ],
   "source": [
    "s1 = set()\n",
    "type(s1)"
   ]
  },
  {
   "cell_type": "code",
   "execution_count": 207,
   "id": "b8a6aaab-f1a5-41dc-a320-f47204114694",
   "metadata": {},
   "outputs": [
    {
     "data": {
      "text/plain": [
       "{1, 2, 3, 6, 9, 'd', 'n'}"
      ]
     },
     "execution_count": 207,
     "metadata": {},
     "output_type": "execute_result"
    }
   ],
   "source": [
    "s1={1,2,3,'n',6,'d',9}\n",
    "s1"
   ]
  },
  {
   "cell_type": "code",
   "execution_count": 208,
   "id": "211db3e1-209b-4ef0-86bf-627c8622e043",
   "metadata": {},
   "outputs": [
    {
     "data": {
      "text/plain": [
       "{2.7, 33, 'a', 'g', 'o', 'v'}"
      ]
     },
     "execution_count": 208,
     "metadata": {},
     "output_type": "execute_result"
    }
   ],
   "source": [
    "s2={'a',2.7,'g','v','o',33}\n",
    "s2"
   ]
  },
  {
   "cell_type": "code",
   "execution_count": 209,
   "id": "20538ec6-e717-462b-b61b-86cad3264550",
   "metadata": {},
   "outputs": [
    {
     "name": "stdout",
     "output_type": "stream",
     "text": [
      "{1, 2, 3, 'd', 6, 9, 'n'}\n",
      "{'g', 33, 2.7, 'o', 'v', 'a'}\n"
     ]
    }
   ],
   "source": [
    "print(s1)\n",
    "print(s2)"
   ]
  },
  {
   "cell_type": "code",
   "execution_count": 210,
   "id": "9427c44d-3cc4-49d5-964c-879bdf72fcba",
   "metadata": {},
   "outputs": [
    {
     "data": {
      "text/plain": [
       "{1, 2, 20, 3, 6, 9, 'd', 'n'}"
      ]
     },
     "execution_count": 210,
     "metadata": {},
     "output_type": "execute_result"
    }
   ],
   "source": [
    "s1.add(20)\n",
    "s1"
   ]
  },
  {
   "cell_type": "code",
   "execution_count": 211,
   "id": "478e08a8-9425-4420-8dd4-916cf7b028f5",
   "metadata": {},
   "outputs": [
    {
     "ename": "TypeError",
     "evalue": "set.add() takes exactly one argument (2 given)",
     "output_type": "error",
     "traceback": [
      "\u001b[1;31m---------------------------------------------------------------------------\u001b[0m",
      "\u001b[1;31mTypeError\u001b[0m                                 Traceback (most recent call last)",
      "Cell \u001b[1;32mIn[211], line 1\u001b[0m\n\u001b[1;32m----> 1\u001b[0m s2\u001b[38;5;241m.\u001b[39madd(\u001b[38;5;124m'\u001b[39m\u001b[38;5;124mf\u001b[39m\u001b[38;5;124m'\u001b[39m,\u001b[38;5;241m100\u001b[39m)\n\u001b[0;32m      2\u001b[0m s2\n",
      "\u001b[1;31mTypeError\u001b[0m: set.add() takes exactly one argument (2 given)"
     ]
    }
   ],
   "source": [
    "s2.add('f',100)\n",
    "s2"
   ]
  },
  {
   "cell_type": "code",
   "execution_count": 327,
   "id": "9b6c7cf1-011d-4cd0-aa48-4cbb323b876a",
   "metadata": {},
   "outputs": [
    {
     "data": {
      "text/plain": [
       "{100, 2.7, 33, 'a', 'f', 'g', 'o', 'v'}"
      ]
     },
     "execution_count": 327,
     "metadata": {},
     "output_type": "execute_result"
    }
   ],
   "source": [
    "s2.add('f')\n",
    "s2.add(100)\n",
    "s2"
   ]
  },
  {
   "cell_type": "code",
   "execution_count": 329,
   "id": "a7e1ab5f-4c8a-4030-9b47-fb90f19da0b4",
   "metadata": {},
   "outputs": [
    {
     "name": "stdout",
     "output_type": "stream",
     "text": [
      "1\n",
      "2\n",
      "3\n",
      "d\n",
      "20\n",
      "6\n",
      "9\n",
      "n\n"
     ]
    }
   ],
   "source": [
    "for i in s1:\n",
    " print(i)"
   ]
  },
  {
   "cell_type": "code",
   "execution_count": 331,
   "id": "48d06d29-6678-4844-9ffa-a44339bb1146",
   "metadata": {},
   "outputs": [
    {
     "name": "stdout",
     "output_type": "stream",
     "text": [
      "g\n",
      "33\n",
      "2.7\n",
      "o\n",
      "v\n",
      "f\n",
      "100\n",
      "a\n"
     ]
    }
   ],
   "source": [
    "for i in (s2):\n",
    "    print(i)\n"
   ]
  },
  {
   "cell_type": "code",
   "execution_count": 333,
   "id": "a2d6f6b8-9de1-4387-bc80-fa694c8e6ac3",
   "metadata": {},
   "outputs": [
    {
     "name": "stdout",
     "output_type": "stream",
     "text": [
      "(0, 'g')\n",
      "(1, 33)\n",
      "(2, 2.7)\n",
      "(3, 'o')\n",
      "(4, 'v')\n",
      "(5, 'f')\n",
      "(6, 100)\n",
      "(7, 'a')\n"
     ]
    }
   ],
   "source": [
    "for i in enumerate(s2):\n",
    "   print(i)"
   ]
  },
  {
   "cell_type": "code",
   "execution_count": 335,
   "id": "8d17321c-8eb0-4086-8181-eb6c1e9b6848",
   "metadata": {},
   "outputs": [
    {
     "data": {
      "text/plain": [
       "{2, 2.44, 88, 'den', 'i', 'van'}"
      ]
     },
     "execution_count": 335,
     "metadata": {},
     "output_type": "execute_result"
    }
   ],
   "source": [
    "s3={2,88,'i','den','van',2.44}\n",
    "s3"
   ]
  },
  {
   "cell_type": "code",
   "execution_count": 337,
   "id": "af6885bb-acfb-4c12-b9b9-abfbb6ce70d9",
   "metadata": {},
   "outputs": [
    {
     "data": {
      "text/plain": [
       "6"
      ]
     },
     "execution_count": 337,
     "metadata": {},
     "output_type": "execute_result"
    }
   ],
   "source": [
    "len(s3)"
   ]
  },
  {
   "cell_type": "code",
   "execution_count": 339,
   "id": "77244299-36b1-44bb-ab04-678990bce5bb",
   "metadata": {},
   "outputs": [
    {
     "data": {
      "text/plain": [
       "set()"
      ]
     },
     "execution_count": 339,
     "metadata": {},
     "output_type": "execute_result"
    }
   ],
   "source": [
    "s3.clear()\n",
    "s3"
   ]
  },
  {
   "cell_type": "code",
   "execution_count": 341,
   "id": "ca6c44e3-cf7c-4c09-afd3-e7b5c67a93e9",
   "metadata": {},
   "outputs": [
    {
     "data": {
      "text/plain": [
       "0"
      ]
     },
     "execution_count": 341,
     "metadata": {},
     "output_type": "execute_result"
    }
   ],
   "source": [
    "len(s3)"
   ]
  },
  {
   "cell_type": "code",
   "execution_count": 343,
   "id": "e755b0a6-6aea-4c4b-b168-fa8afb644cb9",
   "metadata": {},
   "outputs": [
    {
     "ename": "NameError",
     "evalue": "name 's3' is not defined",
     "output_type": "error",
     "traceback": [
      "\u001b[1;31m---------------------------------------------------------------------------\u001b[0m",
      "\u001b[1;31mNameError\u001b[0m                                 Traceback (most recent call last)",
      "Cell \u001b[1;32mIn[343], line 2\u001b[0m\n\u001b[0;32m      1\u001b[0m \u001b[38;5;28;01mdel\u001b[39;00m(s3)\n\u001b[1;32m----> 2\u001b[0m s3\n",
      "\u001b[1;31mNameError\u001b[0m: name 's3' is not defined"
     ]
    }
   ],
   "source": [
    "del(s3)\n",
    "s3"
   ]
  },
  {
   "cell_type": "code",
   "execution_count": 345,
   "id": "49b0b4f1-c13a-4119-908e-6453a3026ff7",
   "metadata": {},
   "outputs": [
    {
     "data": {
      "text/plain": [
       "{100, 2.7, 33, 'a', 'f', 'g', 'o', 'v'}"
      ]
     },
     "execution_count": 345,
     "metadata": {},
     "output_type": "execute_result"
    }
   ],
   "source": [
    "s2"
   ]
  },
  {
   "cell_type": "code",
   "execution_count": 347,
   "id": "63a0e243-2126-4639-935d-16749b97b0c9",
   "metadata": {},
   "outputs": [
    {
     "data": {
      "text/plain": [
       "{100, 2.7, 33, 'a', 'f', 'g', 'o', 'v'}"
      ]
     },
     "execution_count": 347,
     "metadata": {},
     "output_type": "execute_result"
    }
   ],
   "source": [
    "s3=s2.copy()\n",
    "s3"
   ]
  },
  {
   "cell_type": "code",
   "execution_count": 349,
   "id": "78f21346-65bb-4881-895e-2dd94ef70c17",
   "metadata": {},
   "outputs": [
    {
     "data": {
      "text/plain": [
       "True"
      ]
     },
     "execution_count": 349,
     "metadata": {},
     "output_type": "execute_result"
    }
   ],
   "source": [
    "s2==s3"
   ]
  },
  {
   "cell_type": "code",
   "execution_count": 351,
   "id": "aff8ca33-b56f-471c-9a0c-a150ccc0fd28",
   "metadata": {},
   "outputs": [
    {
     "data": {
      "text/plain": [
       "{1, 2, 20, 3, 6, 9, 'd'}"
      ]
     },
     "execution_count": 351,
     "metadata": {},
     "output_type": "execute_result"
    }
   ],
   "source": [
    "s1.remove('n')\n",
    "s1"
   ]
  },
  {
   "cell_type": "code",
   "execution_count": 353,
   "id": "e5572f2a-4d6f-4983-92e7-59ddf146726c",
   "metadata": {},
   "outputs": [
    {
     "ename": "TypeError",
     "evalue": "'set' object is not subscriptable",
     "output_type": "error",
     "traceback": [
      "\u001b[1;31m---------------------------------------------------------------------------\u001b[0m",
      "\u001b[1;31mTypeError\u001b[0m                                 Traceback (most recent call last)",
      "Cell \u001b[1;32mIn[353], line 1\u001b[0m\n\u001b[1;32m----> 1\u001b[0m s1[:]\n",
      "\u001b[1;31mTypeError\u001b[0m: 'set' object is not subscriptable"
     ]
    }
   ],
   "source": [
    "s1[:]"
   ]
  },
  {
   "cell_type": "code",
   "execution_count": 355,
   "id": "f5f2a756-9535-4973-ab8f-8e7f32758e7e",
   "metadata": {},
   "outputs": [
    {
     "ename": "TypeError",
     "evalue": "'set' object is not subscriptable",
     "output_type": "error",
     "traceback": [
      "\u001b[1;31m---------------------------------------------------------------------------\u001b[0m",
      "\u001b[1;31mTypeError\u001b[0m                                 Traceback (most recent call last)",
      "Cell \u001b[1;32mIn[355], line 1\u001b[0m\n\u001b[1;32m----> 1\u001b[0m s1[\u001b[38;5;241m1\u001b[39m]\n",
      "\u001b[1;31mTypeError\u001b[0m: 'set' object is not subscriptable"
     ]
    }
   ],
   "source": [
    "s1[1]"
   ]
  },
  {
   "cell_type": "code",
   "execution_count": 357,
   "id": "4f3ca2ba-78b9-4910-bd53-b79e4e205897",
   "metadata": {},
   "outputs": [
    {
     "data": {
      "text/plain": [
       "{100, 2.7, 33, 'a', 'f', 'g', 'o', 'v'}"
      ]
     },
     "execution_count": 357,
     "metadata": {},
     "output_type": "execute_result"
    }
   ],
   "source": [
    "s3"
   ]
  },
  {
   "cell_type": "code",
   "execution_count": 359,
   "id": "b28742c7-63b5-4453-9ee5-0488d822c612",
   "metadata": {},
   "outputs": [
    {
     "data": {
      "text/plain": [
       "'g'"
      ]
     },
     "execution_count": 359,
     "metadata": {},
     "output_type": "execute_result"
    }
   ],
   "source": [
    "s3.pop()"
   ]
  },
  {
   "cell_type": "code",
   "execution_count": 361,
   "id": "6a01ef1c-13ed-4df2-ac03-b3d17c579427",
   "metadata": {},
   "outputs": [
    {
     "data": {
      "text/plain": [
       "33"
      ]
     },
     "execution_count": 361,
     "metadata": {},
     "output_type": "execute_result"
    }
   ],
   "source": [
    "s3.pop()"
   ]
  },
  {
   "cell_type": "code",
   "execution_count": 363,
   "id": "55f51f50-2583-4db7-af3a-4517833f30e0",
   "metadata": {},
   "outputs": [
    {
     "ename": "TypeError",
     "evalue": "set.pop() takes no arguments (1 given)",
     "output_type": "error",
     "traceback": [
      "\u001b[1;31m---------------------------------------------------------------------------\u001b[0m",
      "\u001b[1;31mTypeError\u001b[0m                                 Traceback (most recent call last)",
      "Cell \u001b[1;32mIn[363], line 1\u001b[0m\n\u001b[1;32m----> 1\u001b[0m s1\u001b[38;5;241m.\u001b[39mpop(\u001b[38;5;241m2\u001b[39m)\n",
      "\u001b[1;31mTypeError\u001b[0m: set.pop() takes no arguments (1 given)"
     ]
    }
   ],
   "source": [
    "s1.pop(2)"
   ]
  },
  {
   "cell_type": "code",
   "execution_count": 365,
   "id": "9fccefb3-7d30-4ea5-9b84-ff0c2806ad39",
   "metadata": {},
   "outputs": [
    {
     "ename": "TypeError",
     "evalue": "set.pop() takes no arguments (1 given)",
     "output_type": "error",
     "traceback": [
      "\u001b[1;31m---------------------------------------------------------------------------\u001b[0m",
      "\u001b[1;31mTypeError\u001b[0m                                 Traceback (most recent call last)",
      "Cell \u001b[1;32mIn[365], line 1\u001b[0m\n\u001b[1;32m----> 1\u001b[0m s2\u001b[38;5;241m.\u001b[39mpop(\u001b[38;5;241m1\u001b[39m)\n",
      "\u001b[1;31mTypeError\u001b[0m: set.pop() takes no arguments (1 given)"
     ]
    }
   ],
   "source": [
    "s2.pop(1)"
   ]
  },
  {
   "cell_type": "code",
   "execution_count": 367,
   "id": "053a0c02-cc5e-419c-8fc2-44fcfa2b4172",
   "metadata": {},
   "outputs": [
    {
     "data": {
      "text/plain": [
       "{100, 2.7, 'a', 'f', 'o', 'v'}"
      ]
     },
     "execution_count": 367,
     "metadata": {},
     "output_type": "execute_result"
    }
   ],
   "source": [
    "s3"
   ]
  },
  {
   "cell_type": "code",
   "execution_count": 369,
   "id": "db8bca24-1626-49bb-9765-5ac6a710212a",
   "metadata": {},
   "outputs": [
    {
     "data": {
      "text/plain": [
       "True"
      ]
     },
     "execution_count": 369,
     "metadata": {},
     "output_type": "execute_result"
    }
   ],
   "source": [
    "100 in s3"
   ]
  },
  {
   "cell_type": "code",
   "execution_count": 371,
   "id": "3738245e-2cc8-4e51-8a9d-88bbebab8171",
   "metadata": {},
   "outputs": [
    {
     "data": {
      "text/plain": [
       "False"
      ]
     },
     "execution_count": 371,
     "metadata": {},
     "output_type": "execute_result"
    }
   ],
   "source": [
    "22 in s3"
   ]
  },
  {
   "cell_type": "markdown",
   "id": "3be1cd73-2d1e-4266-bb3f-234422a91b16",
   "metadata": {},
   "source": [
    "union"
   ]
  },
  {
   "cell_type": "code",
   "execution_count": 257,
   "id": "d632ab5e-4ace-4448-9412-a5b00d6bf245",
   "metadata": {},
   "outputs": [
    {
     "data": {
      "text/plain": [
       "set"
      ]
     },
     "execution_count": 257,
     "metadata": {},
     "output_type": "execute_result"
    }
   ],
   "source": [
    "a={1,2,4,3,9,0,8}\n",
    "b={1.7,8,0,6}\n",
    "c={44,88,9,0,4}\n",
    "type(b)"
   ]
  },
  {
   "cell_type": "code",
   "execution_count": 259,
   "id": "a1a080e5-4e52-4ea5-85da-70fa60d801fe",
   "metadata": {},
   "outputs": [
    {
     "data": {
      "text/plain": [
       "{0, 1, 1.7, 2, 3, 4, 6, 8, 9}"
      ]
     },
     "execution_count": 259,
     "metadata": {},
     "output_type": "execute_result"
    }
   ],
   "source": [
    "a.union(b)"
   ]
  },
  {
   "cell_type": "code",
   "execution_count": 261,
   "id": "0c47ecd0-2296-46f5-89b6-10519f18c391",
   "metadata": {},
   "outputs": [
    {
     "name": "stdout",
     "output_type": "stream",
     "text": [
      "{0, 1, 2, 3, 4, 8, 9}\n",
      "{8, 1.7, 0, 6}\n",
      "{0, 4, 88, 9, 44}\n"
     ]
    }
   ],
   "source": [
    "print(a)\n",
    "print(b)\n",
    "print(c)\n"
   ]
  },
  {
   "cell_type": "code",
   "execution_count": 263,
   "id": "7a4f1922-0487-42ae-a43b-752216743f7e",
   "metadata": {},
   "outputs": [
    {
     "data": {
      "text/plain": [
       "{0, 1, 1.7, 2, 3, 4, 6, 8, 9}"
      ]
     },
     "execution_count": 263,
     "metadata": {},
     "output_type": "execute_result"
    }
   ],
   "source": [
    "c_union=a.union(b)\n",
    "c_union"
   ]
  },
  {
   "cell_type": "code",
   "execution_count": 265,
   "id": "a7e5bb1d-cf24-4d45-b1ab-fe6a7137b505",
   "metadata": {},
   "outputs": [
    {
     "name": "stdout",
     "output_type": "stream",
     "text": [
      "{0, 1, 2, 3, 4, 8, 9}\n",
      "{8, 1.7, 0, 6}\n",
      "{0, 4, 88, 9, 44}\n",
      "{0, 1, 2, 3, 4, 1.7, 6, 8, 9}\n"
     ]
    }
   ],
   "source": [
    "print(a)\n",
    "print(b)\n",
    "print(c)\n",
    "print(c_union)"
   ]
  },
  {
   "cell_type": "code",
   "execution_count": 267,
   "id": "5efcf070-de8d-49fe-b8f5-4b856fff62fa",
   "metadata": {},
   "outputs": [
    {
     "data": {
      "text/plain": [
       "{0, 1, 1.7, 2, 3, 4, 6, 8, 9, 44, 88}"
      ]
     },
     "execution_count": 267,
     "metadata": {},
     "output_type": "execute_result"
    }
   ],
   "source": [
    "b.union(a,c)"
   ]
  },
  {
   "cell_type": "code",
   "execution_count": 269,
   "id": "808a7fdb-207c-462c-804b-1ce679edeb76",
   "metadata": {},
   "outputs": [
    {
     "data": {
      "text/plain": [
       "{0, 1, 1.7, 2, 3, 4, 6, 8, 9}"
      ]
     },
     "execution_count": 269,
     "metadata": {},
     "output_type": "execute_result"
    }
   ],
   "source": [
    "a|b"
   ]
  },
  {
   "cell_type": "code",
   "execution_count": 271,
   "id": "4375a87b-f4c7-4470-8430-9986ba3b1f63",
   "metadata": {},
   "outputs": [
    {
     "data": {
      "text/plain": [
       "{0, 1, 1.7, 2, 3, 4, 6, 8, 9, 44, 88}"
      ]
     },
     "execution_count": 271,
     "metadata": {},
     "output_type": "execute_result"
    }
   ],
   "source": [
    "a|b|c"
   ]
  },
  {
   "cell_type": "code",
   "execution_count": 273,
   "id": "7a37d2e9-1491-446c-adae-af28a0afb19d",
   "metadata": {},
   "outputs": [
    {
     "data": {
      "text/plain": [
       "{0, 1, 1.7, 2, 3, 4, 6, 8, 9, 44, 88}"
      ]
     },
     "execution_count": 273,
     "metadata": {},
     "output_type": "execute_result"
    }
   ],
   "source": [
    "c|c_union"
   ]
  },
  {
   "cell_type": "code",
   "execution_count": 275,
   "id": "9dd1ba91-f14b-4803-a293-2fd66f407acb",
   "metadata": {},
   "outputs": [
    {
     "name": "stdout",
     "output_type": "stream",
     "text": [
      "{0, 1, 2, 3, 4, 8, 9}\n",
      "{8, 1.7, 0, 6}\n",
      "{0, 4, 88, 9, 44}\n",
      "{0, 1, 2, 3, 4, 1.7, 6, 8, 9}\n"
     ]
    }
   ],
   "source": [
    "print(a)\n",
    "print(b)\n",
    "print(c)\n",
    "print(c_union)"
   ]
  },
  {
   "cell_type": "code",
   "execution_count": 277,
   "id": "87808b23-e26c-487a-8f5f-46bae0c59bd7",
   "metadata": {},
   "outputs": [],
   "source": [
    "a.update(b)"
   ]
  },
  {
   "cell_type": "code",
   "execution_count": 279,
   "id": "477484a0-d09d-49d4-a148-177536ab9471",
   "metadata": {},
   "outputs": [
    {
     "name": "stdout",
     "output_type": "stream",
     "text": [
      "{0, 1, 2, 3, 4, 1.7, 6, 8, 9}\n",
      "{8, 1.7, 0, 6}\n",
      "{0, 4, 88, 9, 44}\n",
      "{0, 1, 2, 3, 4, 1.7, 6, 8, 9}\n"
     ]
    }
   ],
   "source": [
    "print(a)\n",
    "print(b)\n",
    "print(c)\n",
    "print(c_union)"
   ]
  },
  {
   "cell_type": "code",
   "execution_count": 281,
   "id": "eee86030-6d7f-4616-820a-cffbfb55275d",
   "metadata": {},
   "outputs": [],
   "source": [
    "b.update(c_union)"
   ]
  },
  {
   "cell_type": "code",
   "execution_count": 283,
   "id": "e1ae0c84-afbe-40d9-8e82-758aac0f6ae5",
   "metadata": {},
   "outputs": [
    {
     "name": "stdout",
     "output_type": "stream",
     "text": [
      "{0, 1.7, 1, 2, 3, 4, 6, 8, 9}\n"
     ]
    }
   ],
   "source": [
    "print(b)"
   ]
  },
  {
   "cell_type": "code",
   "execution_count": 285,
   "id": "aea10b69-86cc-46c9-9ff4-e8a71083dbbc",
   "metadata": {},
   "outputs": [],
   "source": [
    "a1={1,2,3,4}\n",
    "b1={2,3,4,5,6}\n",
    "c1={9,7,5,3,1}"
   ]
  },
  {
   "cell_type": "code",
   "execution_count": 287,
   "id": "0166c831-a539-4eda-bf41-7a5d11987d37",
   "metadata": {},
   "outputs": [
    {
     "data": {
      "text/plain": [
       "{2, 3, 4}"
      ]
     },
     "execution_count": 287,
     "metadata": {},
     "output_type": "execute_result"
    }
   ],
   "source": [
    "a1.intersection(b1)\n"
   ]
  },
  {
   "cell_type": "code",
   "execution_count": 289,
   "id": "0a92f120-480f-462a-892a-cf1cfb9350c8",
   "metadata": {},
   "outputs": [
    {
     "data": {
      "text/plain": [
       "{3, 5}"
      ]
     },
     "execution_count": 289,
     "metadata": {},
     "output_type": "execute_result"
    }
   ],
   "source": [
    "b1.intersection(c1)"
   ]
  },
  {
   "cell_type": "code",
   "execution_count": 291,
   "id": "5bef7a02-3b4f-43cb-ad87-67b5bb0dbae2",
   "metadata": {},
   "outputs": [
    {
     "data": {
      "text/plain": [
       "{1, 3}"
      ]
     },
     "execution_count": 291,
     "metadata": {},
     "output_type": "execute_result"
    }
   ],
   "source": [
    "a1&c1"
   ]
  },
  {
   "cell_type": "code",
   "execution_count": 293,
   "id": "f7094fe8-56e2-4f1a-a091-5088d68d2d40",
   "metadata": {},
   "outputs": [
    {
     "data": {
      "text/plain": [
       "{2, 4}"
      ]
     },
     "execution_count": 293,
     "metadata": {},
     "output_type": "execute_result"
    }
   ],
   "source": [
    "a1-c1"
   ]
  },
  {
   "cell_type": "code",
   "execution_count": 295,
   "id": "fbadbf95-976d-443e-b3a1-179981af0f11",
   "metadata": {},
   "outputs": [
    {
     "data": {
      "text/plain": [
       "{5, 7, 9}"
      ]
     },
     "execution_count": 295,
     "metadata": {},
     "output_type": "execute_result"
    }
   ],
   "source": [
    "c1-a1"
   ]
  },
  {
   "cell_type": "code",
   "execution_count": 297,
   "id": "69e7ad8a-a11f-4ef0-9696-7dfe40cd68bb",
   "metadata": {},
   "outputs": [
    {
     "data": {
      "text/plain": [
       "{2, 4, 6}"
      ]
     },
     "execution_count": 297,
     "metadata": {},
     "output_type": "execute_result"
    }
   ],
   "source": [
    "b1-c1"
   ]
  },
  {
   "cell_type": "code",
   "execution_count": 299,
   "id": "7cf23915-c350-4bf1-a0fa-251e8af4e919",
   "metadata": {},
   "outputs": [
    {
     "data": {
      "text/plain": [
       "{2, 4, 6}"
      ]
     },
     "execution_count": 299,
     "metadata": {},
     "output_type": "execute_result"
    }
   ],
   "source": [
    "b1.difference(c1)"
   ]
  },
  {
   "cell_type": "code",
   "execution_count": 301,
   "id": "8fbd7a73-31d8-4d36-b6eb-670772b6e495",
   "metadata": {},
   "outputs": [
    {
     "data": {
      "text/plain": [
       "{1, 5, 6}"
      ]
     },
     "execution_count": 301,
     "metadata": {},
     "output_type": "execute_result"
    }
   ],
   "source": [
    "a1.symmetric_difference(b1)"
   ]
  },
  {
   "cell_type": "code",
   "execution_count": 303,
   "id": "7a891fba-acf9-467f-ada8-959647c8d36a",
   "metadata": {},
   "outputs": [
    {
     "data": {
      "text/plain": [
       "{2, 4, 5, 7, 9}"
      ]
     },
     "execution_count": 303,
     "metadata": {},
     "output_type": "execute_result"
    }
   ],
   "source": [
    "a1.symmetric_difference(c1)"
   ]
  },
  {
   "cell_type": "code",
   "execution_count": 305,
   "id": "c34458cd-38f0-452e-a5a5-ade3b1dcb911",
   "metadata": {},
   "outputs": [],
   "source": [
    "a2={0,5,10,15,20,25,30,35}\n",
    "b2={0,10,20,30}\n",
    "c2={3,6,9,12}"
   ]
  },
  {
   "cell_type": "code",
   "execution_count": 307,
   "id": "9f80b2d1-de18-4817-8dd0-57bbc0ee9899",
   "metadata": {},
   "outputs": [
    {
     "data": {
      "text/plain": [
       "True"
      ]
     },
     "execution_count": 307,
     "metadata": {},
     "output_type": "execute_result"
    }
   ],
   "source": [
    "a2.issuperset(b2)"
   ]
  },
  {
   "cell_type": "code",
   "execution_count": 309,
   "id": "a1f6bd58-53eb-46ac-8e94-658b0169aaeb",
   "metadata": {},
   "outputs": [
    {
     "data": {
      "text/plain": [
       "False"
      ]
     },
     "execution_count": 309,
     "metadata": {},
     "output_type": "execute_result"
    }
   ],
   "source": [
    "a2.issuperset(c2)"
   ]
  },
  {
   "cell_type": "code",
   "execution_count": 311,
   "id": "dc66d670-55e4-42c4-9a4a-35ae76f4ca8d",
   "metadata": {},
   "outputs": [
    {
     "data": {
      "text/plain": [
       "True"
      ]
     },
     "execution_count": 311,
     "metadata": {},
     "output_type": "execute_result"
    }
   ],
   "source": [
    "b2.issubset(a2)"
   ]
  },
  {
   "cell_type": "code",
   "execution_count": 313,
   "id": "dec99e7a-09f6-473e-8ec7-e3e49791b03d",
   "metadata": {},
   "outputs": [
    {
     "data": {
      "text/plain": [
       "True"
      ]
     },
     "execution_count": 313,
     "metadata": {},
     "output_type": "execute_result"
    }
   ],
   "source": [
    "a2.isdisjoint(c2)"
   ]
  },
  {
   "cell_type": "code",
   "execution_count": 315,
   "id": "4363eb0b-2b7a-42d0-bb94-d0ac99933f49",
   "metadata": {},
   "outputs": [
    {
     "data": {
      "text/plain": [
       "140"
      ]
     },
     "execution_count": 315,
     "metadata": {},
     "output_type": "execute_result"
    }
   ],
   "source": [
    "sum(a2)"
   ]
  },
  {
   "cell_type": "code",
   "execution_count": 317,
   "id": "6e211fa0-2cea-4e6b-a00e-522305d10d3a",
   "metadata": {},
   "outputs": [
    {
     "data": {
      "text/plain": [
       "30"
      ]
     },
     "execution_count": 317,
     "metadata": {},
     "output_type": "execute_result"
    }
   ],
   "source": [
    "max(b2)"
   ]
  },
  {
   "cell_type": "code",
   "execution_count": 319,
   "id": "2ba902c3-8982-42b8-900d-c2c062ee9a7b",
   "metadata": {},
   "outputs": [
    {
     "data": {
      "text/plain": [
       "3"
      ]
     },
     "execution_count": 319,
     "metadata": {},
     "output_type": "execute_result"
    }
   ],
   "source": [
    "min(c2)"
   ]
  },
  {
   "cell_type": "code",
   "execution_count": 321,
   "id": "48137d1f-43b2-4a5b-8b77-77ecaf7d3a44",
   "metadata": {},
   "outputs": [],
   "source": [
    "a1={1,2,3,4}\n",
    "b1={2,3,4,5,6}\n",
    "c1={9,7,5,3,1}"
   ]
  },
  {
   "cell_type": "code",
   "execution_count": 323,
   "id": "40609fb1-396b-4fec-a009-859cdfba6c67",
   "metadata": {},
   "outputs": [
    {
     "data": {
      "text/plain": [
       "4"
      ]
     },
     "execution_count": 323,
     "metadata": {},
     "output_type": "execute_result"
    }
   ],
   "source": [
    "len(a1)"
   ]
  },
  {
   "cell_type": "code",
   "execution_count": 251,
   "id": "7ea042f9-d3e7-420d-9ad8-2bf8668dc5a8",
   "metadata": {},
   "outputs": [
    {
     "data": {
      "text/plain": [
       "1"
      ]
     },
     "execution_count": 251,
     "metadata": {},
     "output_type": "execute_result"
    }
   ],
   "source": [
    "min(c1)"
   ]
  },
  {
   "cell_type": "code",
   "execution_count": 253,
   "id": "8bbc6440-ca5e-4298-9fd0-a35991f798e6",
   "metadata": {},
   "outputs": [
    {
     "data": {
      "text/plain": [
       "[(0, 1), (1, 2), (2, 3), (3, 4)]"
      ]
     },
     "execution_count": 253,
     "metadata": {},
     "output_type": "execute_result"
    }
   ],
   "source": [
    "list(enumerate(a1))"
   ]
  },
  {
   "cell_type": "code",
   "execution_count": null,
   "id": "373c909d-70f6-4be3-b8e4-64776091d9a6",
   "metadata": {},
   "outputs": [],
   "source": []
  }
 ],
 "metadata": {
  "kernelspec": {
   "display_name": "Python 3 (ipykernel)",
   "language": "python",
   "name": "python3"
  },
  "language_info": {
   "codemirror_mode": {
    "name": "ipython",
    "version": 3
   },
   "file_extension": ".py",
   "mimetype": "text/x-python",
   "name": "python",
   "nbconvert_exporter": "python",
   "pygments_lexer": "ipython3",
   "version": "3.12.7"
  }
 },
 "nbformat": 4,
 "nbformat_minor": 5
}
